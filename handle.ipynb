{
 "cells": [
  {
   "cell_type": "markdown",
   "metadata": {},
   "source": [
    "#### First of all I have to import and handle the file"
   ]
  },
  {
   "cell_type": "code",
   "execution_count": 4,
   "metadata": {},
   "outputs": [
    {
     "name": "stdout",
     "output_type": "stream",
     "text": [
      "{'course_index': 6, 'course': '3D-printingspecialist', 'school': 'Resurs Applikation Process System i Skåne AB', 'start': 'September 2025', 'length': '200 YH-poäng (ca 1,5 år)', 'percentage': '75%', 'city': 'Distans (Halmstad)'}\n"
     ]
    },
    {
     "ename": "KeyError",
     "evalue": "'YH Akademin AB'",
     "output_type": "error",
     "traceback": [
      "\u001b[31m---------------------------------------------------------------------------\u001b[39m",
      "\u001b[31mKeyError\u001b[39m                                  Traceback (most recent call last)",
      "\u001b[36mFile \u001b[39m\u001b[32m~/utbildning/data24hel/egna_projekt/enkät/yrkeshögskolor/.venv/lib/python3.12/site-packages/pandas/core/indexes/base.py:3805\u001b[39m, in \u001b[36mIndex.get_loc\u001b[39m\u001b[34m(self, key)\u001b[39m\n\u001b[32m   3804\u001b[39m \u001b[38;5;28;01mtry\u001b[39;00m:\n\u001b[32m-> \u001b[39m\u001b[32m3805\u001b[39m     \u001b[38;5;28;01mreturn\u001b[39;00m \u001b[38;5;28;43mself\u001b[39;49m\u001b[43m.\u001b[49m\u001b[43m_engine\u001b[49m\u001b[43m.\u001b[49m\u001b[43mget_loc\u001b[49m\u001b[43m(\u001b[49m\u001b[43mcasted_key\u001b[49m\u001b[43m)\u001b[49m\n\u001b[32m   3806\u001b[39m \u001b[38;5;28;01mexcept\u001b[39;00m \u001b[38;5;167;01mKeyError\u001b[39;00m \u001b[38;5;28;01mas\u001b[39;00m err:\n",
      "\u001b[36mFile \u001b[39m\u001b[32mindex.pyx:167\u001b[39m, in \u001b[36mpandas._libs.index.IndexEngine.get_loc\u001b[39m\u001b[34m()\u001b[39m\n",
      "\u001b[36mFile \u001b[39m\u001b[32mindex.pyx:196\u001b[39m, in \u001b[36mpandas._libs.index.IndexEngine.get_loc\u001b[39m\u001b[34m()\u001b[39m\n",
      "\u001b[36mFile \u001b[39m\u001b[32mpandas/_libs/hashtable_class_helper.pxi:7081\u001b[39m, in \u001b[36mpandas._libs.hashtable.PyObjectHashTable.get_item\u001b[39m\u001b[34m()\u001b[39m\n",
      "\u001b[36mFile \u001b[39m\u001b[32mpandas/_libs/hashtable_class_helper.pxi:7089\u001b[39m, in \u001b[36mpandas._libs.hashtable.PyObjectHashTable.get_item\u001b[39m\u001b[34m()\u001b[39m\n",
      "\u001b[31mKeyError\u001b[39m: 'YH Akademin AB'",
      "\nThe above exception was the direct cause of the following exception:\n",
      "\u001b[31mKeyError\u001b[39m                                  Traceback (most recent call last)",
      "\u001b[36mCell\u001b[39m\u001b[36m \u001b[39m\u001b[32mIn[4]\u001b[39m\u001b[32m, line 38\u001b[39m\n\u001b[32m     35\u001b[39m \u001b[38;5;28mprint\u001b[39m(data[\u001b[32m5\u001b[39m])\n\u001b[32m     37\u001b[39m df = pd.DataFrame(data)\n\u001b[32m---> \u001b[39m\u001b[32m38\u001b[39m display(\u001b[43mdf\u001b[49m\u001b[43m[\u001b[49m\u001b[43mschool_name\u001b[49m\u001b[43m]\u001b[49m.unique(axis=\u001b[32m1\u001b[39m))\n\u001b[32m     39\u001b[39m \u001b[38;5;66;03m# print(dl)\u001b[39;00m\n\u001b[32m     40\u001b[39m \u001b[38;5;66;03m# print(articles)\u001b[39;00m\n\u001b[32m     41\u001b[39m \u001b[38;5;66;03m# df.append(data)\u001b[39;00m\n\u001b[32m   (...)\u001b[39m\u001b[32m     87\u001b[39m \u001b[38;5;66;03m# print(\"Approach 2 Output:\")\u001b[39;00m\n\u001b[32m     88\u001b[39m \u001b[38;5;66;03m# display(df.head())\u001b[39;00m\n",
      "\u001b[36mFile \u001b[39m\u001b[32m~/utbildning/data24hel/egna_projekt/enkät/yrkeshögskolor/.venv/lib/python3.12/site-packages/pandas/core/frame.py:4102\u001b[39m, in \u001b[36mDataFrame.__getitem__\u001b[39m\u001b[34m(self, key)\u001b[39m\n\u001b[32m   4100\u001b[39m \u001b[38;5;28;01mif\u001b[39;00m \u001b[38;5;28mself\u001b[39m.columns.nlevels > \u001b[32m1\u001b[39m:\n\u001b[32m   4101\u001b[39m     \u001b[38;5;28;01mreturn\u001b[39;00m \u001b[38;5;28mself\u001b[39m._getitem_multilevel(key)\n\u001b[32m-> \u001b[39m\u001b[32m4102\u001b[39m indexer = \u001b[38;5;28;43mself\u001b[39;49m\u001b[43m.\u001b[49m\u001b[43mcolumns\u001b[49m\u001b[43m.\u001b[49m\u001b[43mget_loc\u001b[49m\u001b[43m(\u001b[49m\u001b[43mkey\u001b[49m\u001b[43m)\u001b[49m\n\u001b[32m   4103\u001b[39m \u001b[38;5;28;01mif\u001b[39;00m is_integer(indexer):\n\u001b[32m   4104\u001b[39m     indexer = [indexer]\n",
      "\u001b[36mFile \u001b[39m\u001b[32m~/utbildning/data24hel/egna_projekt/enkät/yrkeshögskolor/.venv/lib/python3.12/site-packages/pandas/core/indexes/base.py:3812\u001b[39m, in \u001b[36mIndex.get_loc\u001b[39m\u001b[34m(self, key)\u001b[39m\n\u001b[32m   3807\u001b[39m     \u001b[38;5;28;01mif\u001b[39;00m \u001b[38;5;28misinstance\u001b[39m(casted_key, \u001b[38;5;28mslice\u001b[39m) \u001b[38;5;129;01mor\u001b[39;00m (\n\u001b[32m   3808\u001b[39m         \u001b[38;5;28misinstance\u001b[39m(casted_key, abc.Iterable)\n\u001b[32m   3809\u001b[39m         \u001b[38;5;129;01mand\u001b[39;00m \u001b[38;5;28many\u001b[39m(\u001b[38;5;28misinstance\u001b[39m(x, \u001b[38;5;28mslice\u001b[39m) \u001b[38;5;28;01mfor\u001b[39;00m x \u001b[38;5;129;01min\u001b[39;00m casted_key)\n\u001b[32m   3810\u001b[39m     ):\n\u001b[32m   3811\u001b[39m         \u001b[38;5;28;01mraise\u001b[39;00m InvalidIndexError(key)\n\u001b[32m-> \u001b[39m\u001b[32m3812\u001b[39m     \u001b[38;5;28;01mraise\u001b[39;00m \u001b[38;5;167;01mKeyError\u001b[39;00m(key) \u001b[38;5;28;01mfrom\u001b[39;00m\u001b[38;5;250m \u001b[39m\u001b[34;01merr\u001b[39;00m\n\u001b[32m   3813\u001b[39m \u001b[38;5;28;01mexcept\u001b[39;00m \u001b[38;5;167;01mTypeError\u001b[39;00m:\n\u001b[32m   3814\u001b[39m     \u001b[38;5;66;03m# If we have a listlike key, _check_indexing_error will raise\u001b[39;00m\n\u001b[32m   3815\u001b[39m     \u001b[38;5;66;03m#  InvalidIndexError. Otherwise we fall through and re-raise\u001b[39;00m\n\u001b[32m   3816\u001b[39m     \u001b[38;5;66;03m#  the TypeError.\u001b[39;00m\n\u001b[32m   3817\u001b[39m     \u001b[38;5;28mself\u001b[39m._check_indexing_error(key)\n",
      "\u001b[31mKeyError\u001b[39m: 'YH Akademin AB'"
     ]
    }
   ],
   "source": [
    "import pandas as pd\n",
    "from bs4 import BeautifulSoup\n",
    "from io import StringIO\n",
    "import json\n",
    "\n",
    "html_file_path = 'hitta_utbildning.html' # 1218 courses\n",
    "\n",
    "with open(html_file_path) as f:\n",
    "    soup = BeautifulSoup(f, 'html.parser')\n",
    "\n",
    "articles = soup.body.find_all('article')\n",
    "dl = soup.body.find_all('dl')\n",
    "\n",
    "def find_school(course_name):\n",
    "    pass\n",
    "\n",
    "data = []\n",
    "for index, h in enumerate(soup.body.find_all('article')[1:]):\n",
    "    course_name = h.find(class_ = \"h-byline\").text\n",
    "    course_start = h.find_all('dd')[0].text\n",
    "    course_length = h.find_all('dd')[1].text\n",
    "    course_percentage = h.find_all('dd')[2].text\n",
    "    course_city = h.find_all('dd')[3].text\n",
    "    school_name = h.find_all('dd')[4].text\n",
    "\n",
    "    data.append(dict(course_index = index+1, \n",
    "                    course = course_name,\n",
    "                    school = school_name,\n",
    "                    start = course_start,\n",
    "                    length = course_length,\n",
    "                    percentage = course_percentage,\n",
    "                    city = course_city\n",
    "                    ))\n",
    "\n",
    "print(data[5])\n",
    "\n",
    "df = pd.DataFrame(data)\n",
    "display(df[school_name].unique(axis=1))\n",
    "# print(dl)\n",
    "# print(articles)\n",
    "# df.append(data)\n",
    "\n",
    "# display(df)\n",
    "\n",
    "\n",
    "# articles = list(soup.body.find_all('article')[1:])\n",
    "# print(articles.class)\n",
    "# df = pd.DataFrame(articles)\n",
    "# articles_json = json.load(articles)\n",
    "# print(articles_json)\n",
    "\n",
    "# df = pd.DataFrame(articles[1:])\n",
    "# display(df)\n",
    "\n",
    "# print(articles)\n",
    "# for headline in articles.find_all(class_ = \"h-byline\"):\n",
    "#     print(headline)\n",
    "\n",
    "# for article in articles[1:]:\n",
    "#     for headline in \n",
    "\n",
    "# print(len(articles))\n",
    "\n",
    "\n",
    "# df = pd.DataFrame(headlines)\n",
    "# display(df)\n",
    "\n",
    "#print(len(headlines)) # 1218!\n",
    "\n",
    "#print(headlines.get_text())\n",
    "\n",
    "# def read_html_with_beautiful_soup(file_path):\n",
    "#     # Read HTML file\n",
    "#     with open(file_path, 'r') as f:\n",
    "#         # Parse HTML using BeautifulSoup\n",
    "#         soup = BeautifulSoup(f, 'html.parser')\n",
    "#     # Find all tables in the HTML\n",
    "#     tables = soup.find_all('table')\n",
    "#     # Read tables into DataFrame using read_html()\n",
    "#     df = pd.read_html(str(tables))[0]\n",
    "#     return df\n",
    "\n",
    "# # Read HTML file using BeautifulSoup with read_html()\n",
    "# df = read_html_with_beautiful_soup(html_file_path)\n",
    "\n",
    "# # Display DataFrame\n",
    "# print(\"Approach 2 Output:\")\n",
    "# display(df.head())\n",
    "\n"
   ]
  }
 ],
 "metadata": {
  "kernelspec": {
   "display_name": ".venv",
   "language": "python",
   "name": "python3"
  },
  "language_info": {
   "codemirror_mode": {
    "name": "ipython",
    "version": 3
   },
   "file_extension": ".py",
   "mimetype": "text/x-python",
   "name": "python",
   "nbconvert_exporter": "python",
   "pygments_lexer": "ipython3",
   "version": "3.12.3"
  }
 },
 "nbformat": 4,
 "nbformat_minor": 2
}

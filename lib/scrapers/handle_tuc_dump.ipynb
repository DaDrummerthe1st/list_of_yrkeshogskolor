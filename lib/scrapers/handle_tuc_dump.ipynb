{
 "cells": [
  {
   "cell_type": "markdown",
   "metadata": {},
   "source": [
    "## This file handles /tuc/dump.csv\n",
    "_/tuc/dump.csv_\n",
    "\n",
    "is a copy of all text at TUCs website \"Kontakta oss\" subchoice \"utbildningsledare\" _(20250322)_ to bypass it's [Cloudfare emailprotection](https://stackoverflow.com/questions/44418721/ive-seen-this-email-protection-on-a-website-and-would-like-to-know-how-they-hav):<br><br>\n",
    "> <\\a href=\"/cdn-cgi/l/email-protection#d8bbbdbbb1b4b1b9f6bdb6bfbebdb4ac98acadbbabafbdbcbdb6f6abbd\">'"
   ]
  }
 ],
 "metadata": {
  "language_info": {
   "name": "python"
  }
 },
 "nbformat": 4,
 "nbformat_minor": 2
}

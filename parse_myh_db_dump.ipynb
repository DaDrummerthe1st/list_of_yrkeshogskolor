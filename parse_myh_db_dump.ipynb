{
 "cells": [
  {
   "cell_type": "code",
   "execution_count": 2,
   "metadata": {},
   "outputs": [],
   "source": [
    "import pandas as pd\n"
   ]
  },
  {
   "cell_type": "code",
   "execution_count": 3,
   "metadata": {},
   "outputs": [],
   "source": [
    "\n",
    "file = \"resources/xlsx/Myh.xlsx\"\n",
    "columnames = ['company_name','address','postal_code','city','email','phone_number','course_name']\n",
    "df = pd.read_excel(file, names=columnames) # names == columns"
   ]
  },
  {
   "cell_type": "code",
   "execution_count": 5,
   "metadata": {},
   "outputs": [],
   "source": [
    "csv_file = \"resources/csv/ISD-58612025-04-23v1.csv\"\n",
    "\n",
    "df_great_dataset = pd.read_csv(csv_file, on_bad_lines='warn', delimiter=\";\", header=0)\n"
   ]
  },
  {
   "cell_type": "code",
   "execution_count": 10,
   "metadata": {},
   "outputs": [
    {
     "name": "stdout",
     "output_type": "stream",
     "text": [
      "{'Utbildningsanordnare, administrativ enhet': 'company', 'Administrativ enhet, besöksadress': 'visiting_adress', 'Administrativ enhet, postadress': 'postadress', 'Administrativ enhet, postnummer': 'postal_code', 'Administrativ enhet, postort': 'city', 'Administrativ enhet, e-post': 'email', 'Telefonnummer': 'phone_number', 'Utbildningsnummer': 'course_number', 'Utbildningsnamn': 'course_name', 'Studieort': 'course_city', 'Studieform': 'form_of_study', 'Status': 'status', 'Beviljade platser': 'granted_amount', 'Antal Studerande': 'attending'}\n",
      "{\n",
      "  \"Utbildningsanordnare, administrativ enhet\": \"company\",\n",
      "  \"Administrativ enhet, bes\\u00f6ksadress\": \"visiting_adress\",\n",
      "  \"Administrativ enhet, postadress\": \"postadress\",\n",
      "  \"Administrativ enhet, postnummer\": \"postal_code\",\n",
      "  \"Administrativ enhet, postort\": \"city\",\n",
      "  \"Administrativ enhet, e-post\": \"email\",\n",
      "  \"Telefonnummer\": \"phone_number\",\n",
      "  \"Utbildningsnummer\": \"course_number\",\n",
      "  \"Utbildningsnamn\": \"course_name\",\n",
      "  \"Studieort\": \"course_city\",\n",
      "  \"Studieform\": \"form_of_study\",\n",
      "  \"Status\": \"status\",\n",
      "  \"Beviljade platser\": \"granted_amount\",\n",
      "  \"Antal Studerande\": \"attending\"\n",
      "}\n"
     ]
    }
   ],
   "source": [
    "old_headlines = ['Utbildningsanordnare, administrativ enhet', 'Administrativ enhet, besöksadress', 'Administrativ enhet, postadress', 'Administrativ enhet, postnummer', 'Administrativ enhet, postort', 'Administrativ enhet, e-post', 'Telefonnummer', 'Utbildningsnummer', 'Utbildningsnamn', 'Studieort', 'Studieform', 'Status', 'Beviljade platser', 'Antal Studerande']\n",
    "new_headlines = ['company', 'visiting_adress', 'postadress','postal_code', 'city', 'email', 'phone_number', 'course_number', 'course_name', 'course_city', 'form_of_study', 'status','granted_amount', 'attending']\n",
    "columnames_great_dataset = dict(zip(old_headlines, new_headlines))\n",
    "\n",
    "print(columnames_great_dataset)\n",
    "\n",
    "import json\n",
    "print(json.dumps(columnames_great_dataset, indent=2))\n"
   ]
  },
  {
   "cell_type": "code",
   "execution_count": 11,
   "metadata": {},
   "outputs": [],
   "source": [
    "\n",
    "df_great_dataset.rename(columns=columnames_great_dataset, inplace=True)"
   ]
  },
  {
   "cell_type": "code",
   "execution_count": 12,
   "metadata": {},
   "outputs": [
    {
     "data": {
      "application/vnd.microsoft.datawrangler.viewer.v0+json": {
       "columns": [
        {
         "name": "index",
         "rawType": "int64",
         "type": "integer"
        },
        {
         "name": "company",
         "rawType": "object",
         "type": "string"
        },
        {
         "name": "visiting_adress",
         "rawType": "object",
         "type": "string"
        },
        {
         "name": "postadress",
         "rawType": "object",
         "type": "string"
        },
        {
         "name": "postal_code",
         "rawType": "int64",
         "type": "integer"
        },
        {
         "name": "city",
         "rawType": "object",
         "type": "string"
        },
        {
         "name": "email",
         "rawType": "object",
         "type": "string"
        },
        {
         "name": "phone_number",
         "rawType": "object",
         "type": "string"
        },
        {
         "name": "course_number",
         "rawType": "object",
         "type": "string"
        },
        {
         "name": "course_name",
         "rawType": "object",
         "type": "string"
        },
        {
         "name": "course_city",
         "rawType": "object",
         "type": "string"
        },
        {
         "name": "form_of_study",
         "rawType": "object",
         "type": "string"
        },
        {
         "name": "status",
         "rawType": "object",
         "type": "string"
        },
        {
         "name": "granted_amount",
         "rawType": "int64",
         "type": "integer"
        },
        {
         "name": "attending",
         "rawType": "float64",
         "type": "float"
        }
       ],
       "conversionMethod": "pd.DataFrame",
       "ref": "62f40bac-108e-49cb-957a-e1f4939f5a17",
       "rows": [
        [
         "0",
         "AGSTU AB",
         "Oxbacksgatan 2B",
         "Oxbacksgatan 2B",
         "72461",
         "Västerås",
         "mia.lindh@agstu.com",
         "070-2864344",
         "YH00742",
         "FPGA - ingenjör",
         "Virsbo",
         "Distans",
         "Beviljat",
         "20",
         null
        ],
        [
         "1",
         "ALEA Kompetenshöjning AB",
         "Anderstorpsvägen 22",
         "Anderstorpsvägen 22",
         "17154",
         "Solna",
         "info@arenayrkeshogskola.se",
         "010-7880039",
         "YH01175",
         "Rörnätstekniker/Arbetsledare–Rörnätsteknik",
         "Kalmar",
         "Distans",
         "Beviljat",
         "20",
         null
        ],
        [
         "2",
         "ALEA Kompetenshöjning AB",
         "Anderstorpsvägen 22",
         "Anderstorpsvägen 22",
         "17154",
         "Solna",
         "info@arenayrkeshogskola.se",
         "010-7880039",
         "YH01738",
         "Vatten- och miljötekniker",
         "Höör",
         "Distans",
         "Beviljat",
         "20",
         null
        ],
        [
         "3",
         "ALEA Kompetenshöjning AB",
         "Anderstorpsvägen 22",
         "Anderstorpsvägen 22",
         "17154",
         "Solna",
         "info@arenayrkeshogskola.se",
         "010-7880039",
         "YH01848",
         "Rörnätsinspektör Mark",
         "Stockholm",
         "Distans",
         "Startat",
         "30",
         "18.0"
        ],
        [
         "4",
         "ALEA Kompetenshöjning AB",
         "Anderstorpsvägen 22",
         "Anderstorpsvägen 22",
         "17154",
         "Solna",
         "info@arenayrkeshogskola.se",
         "010-7880039",
         "YH01935",
         "Rörinspektör - Mark/Fastighet",
         "Stockholm",
         "Distans",
         "Beviljat",
         "20",
         null
        ]
       ],
       "shape": {
        "columns": 14,
        "rows": 5
       }
      },
      "text/html": [
       "<div>\n",
       "<style scoped>\n",
       "    .dataframe tbody tr th:only-of-type {\n",
       "        vertical-align: middle;\n",
       "    }\n",
       "\n",
       "    .dataframe tbody tr th {\n",
       "        vertical-align: top;\n",
       "    }\n",
       "\n",
       "    .dataframe thead th {\n",
       "        text-align: right;\n",
       "    }\n",
       "</style>\n",
       "<table border=\"1\" class=\"dataframe\">\n",
       "  <thead>\n",
       "    <tr style=\"text-align: right;\">\n",
       "      <th></th>\n",
       "      <th>company</th>\n",
       "      <th>visiting_adress</th>\n",
       "      <th>postadress</th>\n",
       "      <th>postal_code</th>\n",
       "      <th>city</th>\n",
       "      <th>email</th>\n",
       "      <th>phone_number</th>\n",
       "      <th>course_number</th>\n",
       "      <th>course_name</th>\n",
       "      <th>course_city</th>\n",
       "      <th>form_of_study</th>\n",
       "      <th>status</th>\n",
       "      <th>granted_amount</th>\n",
       "      <th>attending</th>\n",
       "    </tr>\n",
       "  </thead>\n",
       "  <tbody>\n",
       "    <tr>\n",
       "      <th>0</th>\n",
       "      <td>AGSTU AB</td>\n",
       "      <td>Oxbacksgatan 2B</td>\n",
       "      <td>Oxbacksgatan 2B</td>\n",
       "      <td>72461</td>\n",
       "      <td>Västerås</td>\n",
       "      <td>mia.lindh@agstu.com</td>\n",
       "      <td>070-2864344</td>\n",
       "      <td>YH00742</td>\n",
       "      <td>FPGA - ingenjör</td>\n",
       "      <td>Virsbo</td>\n",
       "      <td>Distans</td>\n",
       "      <td>Beviljat</td>\n",
       "      <td>20</td>\n",
       "      <td>NaN</td>\n",
       "    </tr>\n",
       "    <tr>\n",
       "      <th>1</th>\n",
       "      <td>ALEA Kompetenshöjning AB</td>\n",
       "      <td>Anderstorpsvägen 22</td>\n",
       "      <td>Anderstorpsvägen 22</td>\n",
       "      <td>17154</td>\n",
       "      <td>Solna</td>\n",
       "      <td>info@arenayrkeshogskola.se</td>\n",
       "      <td>010-7880039</td>\n",
       "      <td>YH01175</td>\n",
       "      <td>Rörnätstekniker/Arbetsledare–Rörnätsteknik</td>\n",
       "      <td>Kalmar</td>\n",
       "      <td>Distans</td>\n",
       "      <td>Beviljat</td>\n",
       "      <td>20</td>\n",
       "      <td>NaN</td>\n",
       "    </tr>\n",
       "    <tr>\n",
       "      <th>2</th>\n",
       "      <td>ALEA Kompetenshöjning AB</td>\n",
       "      <td>Anderstorpsvägen 22</td>\n",
       "      <td>Anderstorpsvägen 22</td>\n",
       "      <td>17154</td>\n",
       "      <td>Solna</td>\n",
       "      <td>info@arenayrkeshogskola.se</td>\n",
       "      <td>010-7880039</td>\n",
       "      <td>YH01738</td>\n",
       "      <td>Vatten- och miljötekniker</td>\n",
       "      <td>Höör</td>\n",
       "      <td>Distans</td>\n",
       "      <td>Beviljat</td>\n",
       "      <td>20</td>\n",
       "      <td>NaN</td>\n",
       "    </tr>\n",
       "    <tr>\n",
       "      <th>3</th>\n",
       "      <td>ALEA Kompetenshöjning AB</td>\n",
       "      <td>Anderstorpsvägen 22</td>\n",
       "      <td>Anderstorpsvägen 22</td>\n",
       "      <td>17154</td>\n",
       "      <td>Solna</td>\n",
       "      <td>info@arenayrkeshogskola.se</td>\n",
       "      <td>010-7880039</td>\n",
       "      <td>YH01848</td>\n",
       "      <td>Rörnätsinspektör Mark</td>\n",
       "      <td>Stockholm</td>\n",
       "      <td>Distans</td>\n",
       "      <td>Startat</td>\n",
       "      <td>30</td>\n",
       "      <td>18.0</td>\n",
       "    </tr>\n",
       "    <tr>\n",
       "      <th>4</th>\n",
       "      <td>ALEA Kompetenshöjning AB</td>\n",
       "      <td>Anderstorpsvägen 22</td>\n",
       "      <td>Anderstorpsvägen 22</td>\n",
       "      <td>17154</td>\n",
       "      <td>Solna</td>\n",
       "      <td>info@arenayrkeshogskola.se</td>\n",
       "      <td>010-7880039</td>\n",
       "      <td>YH01935</td>\n",
       "      <td>Rörinspektör - Mark/Fastighet</td>\n",
       "      <td>Stockholm</td>\n",
       "      <td>Distans</td>\n",
       "      <td>Beviljat</td>\n",
       "      <td>20</td>\n",
       "      <td>NaN</td>\n",
       "    </tr>\n",
       "  </tbody>\n",
       "</table>\n",
       "</div>"
      ],
      "text/plain": [
       "                    company      visiting_adress           postadress  \\\n",
       "0                  AGSTU AB      Oxbacksgatan 2B      Oxbacksgatan 2B   \n",
       "1  ALEA Kompetenshöjning AB  Anderstorpsvägen 22  Anderstorpsvägen 22   \n",
       "2  ALEA Kompetenshöjning AB  Anderstorpsvägen 22  Anderstorpsvägen 22   \n",
       "3  ALEA Kompetenshöjning AB  Anderstorpsvägen 22  Anderstorpsvägen 22   \n",
       "4  ALEA Kompetenshöjning AB  Anderstorpsvägen 22  Anderstorpsvägen 22   \n",
       "\n",
       "   postal_code      city                       email phone_number  \\\n",
       "0        72461  Västerås         mia.lindh@agstu.com  070-2864344   \n",
       "1        17154     Solna  info@arenayrkeshogskola.se  010-7880039   \n",
       "2        17154     Solna  info@arenayrkeshogskola.se  010-7880039   \n",
       "3        17154     Solna  info@arenayrkeshogskola.se  010-7880039   \n",
       "4        17154     Solna  info@arenayrkeshogskola.se  010-7880039   \n",
       "\n",
       "  course_number                                 course_name course_city  \\\n",
       "0       YH00742                             FPGA - ingenjör      Virsbo   \n",
       "1       YH01175  Rörnätstekniker/Arbetsledare–Rörnätsteknik      Kalmar   \n",
       "2       YH01738                   Vatten- och miljötekniker        Höör   \n",
       "3       YH01848                       Rörnätsinspektör Mark   Stockholm   \n",
       "4       YH01935               Rörinspektör - Mark/Fastighet   Stockholm   \n",
       "\n",
       "  form_of_study    status  granted_amount  attending  \n",
       "0       Distans  Beviljat              20        NaN  \n",
       "1       Distans  Beviljat              20        NaN  \n",
       "2       Distans  Beviljat              20        NaN  \n",
       "3       Distans   Startat              30       18.0  \n",
       "4       Distans  Beviljat              20        NaN  "
      ]
     },
     "metadata": {},
     "output_type": "display_data"
    }
   ],
   "source": [
    "display(df_great_dataset.head())"
   ]
  },
  {
   "cell_type": "code",
   "execution_count": null,
   "metadata": {},
   "outputs": [],
   "source": []
  },
  {
   "cell_type": "code",
   "execution_count": 14,
   "metadata": {},
   "outputs": [
    {
     "data": {
      "application/vnd.microsoft.datawrangler.viewer.v0+json": {
       "columns": [
        {
         "name": "course_name",
         "rawType": "object",
         "type": "string"
        },
        {
         "name": "count",
         "rawType": "int64",
         "type": "integer"
        }
       ],
       "conversionMethod": "pd.DataFrame",
       "ref": "b877eb76-bd02-4999-8942-c17a3e3a7dc0",
       "rows": [
        [
         "Stödpedagog inom funktionshinderområdet",
         "21"
        ],
        [
         "Tandsköterska",
         "21"
        ],
        [
         "Medicinsk vårdadministratör",
         "18"
        ],
        [
         "Socialpedagog",
         "15"
        ],
        [
         "Specialistundersköterska inom vård och omsorg av äldre",
         "15"
        ],
        [
         "Trafiklärare",
         "11"
        ],
        [
         "Javautvecklare",
         "8"
        ],
        [
         "VVS-ingenjör",
         "7"
        ],
        [
         "Energiingenjör",
         "7"
        ],
        [
         "Systemutvecklare .NET",
         "7"
        ],
        [
         "Elkraftsingenjör",
         "7"
        ],
        [
         "Fastighetsförvaltare",
         "6"
        ],
        [
         "Kyl- och värmepumpstekniker",
         "6"
        ],
        [
         "VA-projektör",
         "5"
        ],
        [
         "Elkonstruktör",
         "5"
        ],
        [
         "Apotekstekniker",
         "5"
        ],
        [
         "Ambulanssjukvårdare",
         "5"
        ],
        [
         "Front End Developer",
         "5"
        ],
        [
         "Instrument- och steriltekniker",
         "5"
        ],
        [
         "Redovisningsekonom",
         "5"
        ],
        [
         "DevOps Engineer",
         "4"
        ],
        [
         "Frontendutvecklare",
         "4"
        ],
        [
         "Stödpedagog",
         "4"
        ],
        [
         "Vindkraftstekniker",
         "4"
        ],
        [
         "Automations- och Robotingenjör med Industri 4.0",
         "4"
        ],
        [
         "Spelgrafiker",
         "4"
        ],
        [
         "Spelprogrammerare",
         "4"
        ],
        [
         "Affärsinriktad Redovisningsekonom ",
         "4"
        ],
        [
         "Automationsingenjör",
         "4"
        ],
        [
         "Ventilationstekniker",
         "3"
        ],
        [
         "Arborist",
         "3"
        ],
        [
         "Redovisningskonsult",
         "3"
        ],
        [
         "Stödpedagog ",
         "3"
        ],
        [
         "Underhållstekniker",
         "3"
        ],
        [
         "Produktionstekniker",
         "3"
        ],
        [
         "Trafiklärare ",
         "3"
        ],
        [
         "Affärsutvecklare besöksnäring ",
         "3"
        ],
        [
         "IT-säkerhetsspecialist",
         "3"
        ],
        [
         "AI: Grundläggande praktisk maskininlärning",
         "3"
        ],
        [
         "Bygglovshandläggare",
         "3"
        ],
        [
         "Key Account Manager",
         "3"
        ],
        [
         "Account Manager B2B",
         "3"
        ],
        [
         "Paralegal",
         "3"
        ],
        [
         "Facility Management",
         "3"
        ],
        [
         "Strategiskt inköp och upphandling",
         "3"
        ],
        [
         "Hållbar varumärkesstrategi",
         "3"
        ],
        [
         "Ridlärare",
         "3"
        ],
        [
         "Lokförare",
         "3"
        ],
        [
         "CAD-konstruktör",
         "3"
        ],
        [
         "Futuregames Game Programmer",
         "3"
        ]
       ],
       "shape": {
        "columns": 1,
        "rows": 1026
       }
      },
      "text/html": [
       "<div>\n",
       "<style scoped>\n",
       "    .dataframe tbody tr th:only-of-type {\n",
       "        vertical-align: middle;\n",
       "    }\n",
       "\n",
       "    .dataframe tbody tr th {\n",
       "        vertical-align: top;\n",
       "    }\n",
       "\n",
       "    .dataframe thead th {\n",
       "        text-align: right;\n",
       "    }\n",
       "</style>\n",
       "<table border=\"1\" class=\"dataframe\">\n",
       "  <thead>\n",
       "    <tr style=\"text-align: right;\">\n",
       "      <th></th>\n",
       "      <th>count</th>\n",
       "    </tr>\n",
       "    <tr>\n",
       "      <th>course_name</th>\n",
       "      <th></th>\n",
       "    </tr>\n",
       "  </thead>\n",
       "  <tbody>\n",
       "    <tr>\n",
       "      <th>Stödpedagog inom funktionshinderområdet</th>\n",
       "      <td>21</td>\n",
       "    </tr>\n",
       "    <tr>\n",
       "      <th>Tandsköterska</th>\n",
       "      <td>21</td>\n",
       "    </tr>\n",
       "    <tr>\n",
       "      <th>Medicinsk vårdadministratör</th>\n",
       "      <td>18</td>\n",
       "    </tr>\n",
       "    <tr>\n",
       "      <th>Socialpedagog</th>\n",
       "      <td>15</td>\n",
       "    </tr>\n",
       "    <tr>\n",
       "      <th>Specialistundersköterska inom vård och omsorg av äldre</th>\n",
       "      <td>15</td>\n",
       "    </tr>\n",
       "    <tr>\n",
       "      <th>...</th>\n",
       "      <td>...</td>\n",
       "    </tr>\n",
       "    <tr>\n",
       "      <th>Social media marketing</th>\n",
       "      <td>1</td>\n",
       "    </tr>\n",
       "    <tr>\n",
       "      <th>Datamodellering &amp; BI-plattformar</th>\n",
       "      <td>1</td>\n",
       "    </tr>\n",
       "    <tr>\n",
       "      <th>AI-driven hållbarhetsutveckling</th>\n",
       "      <td>1</td>\n",
       "    </tr>\n",
       "    <tr>\n",
       "      <th>Customer Experience Management</th>\n",
       "      <td>1</td>\n",
       "    </tr>\n",
       "    <tr>\n",
       "      <th>Cirkulär affärsutveckling</th>\n",
       "      <td>1</td>\n",
       "    </tr>\n",
       "  </tbody>\n",
       "</table>\n",
       "<p>1026 rows × 1 columns</p>\n",
       "</div>"
      ],
      "text/plain": [
       "                                                    count\n",
       "course_name                                              \n",
       "Stödpedagog inom funktionshinderområdet                21\n",
       "Tandsköterska                                          21\n",
       "Medicinsk vårdadministratör                            18\n",
       "Socialpedagog                                          15\n",
       "Specialistundersköterska inom vård och omsorg a...     15\n",
       "...                                                   ...\n",
       "Social media marketing                                  1\n",
       "Datamodellering & BI-plattformar                        1\n",
       "AI-driven hållbarhetsutveckling                         1\n",
       "Customer Experience Management                          1\n",
       "Cirkulär affärsutveckling                               1\n",
       "\n",
       "[1026 rows x 1 columns]"
      ]
     },
     "metadata": {},
     "output_type": "display_data"
    }
   ],
   "source": [
    "n_schools = pd.DataFrame(df_great_dataset['course_name'].value_counts())\n",
    "# df_count = pd.DataFrame(df['company_name'].value_counts())\n",
    "\n",
    "# print(df_count)\n",
    "display(n_schools)"
   ]
  },
  {
   "cell_type": "code",
   "execution_count": 19,
   "metadata": {},
   "outputs": [
    {
     "data": {
      "text/plain": [
       "np.float64(10356.0)"
      ]
     },
     "execution_count": 19,
     "metadata": {},
     "output_type": "execute_result"
    }
   ],
   "source": [
    "df_great_dataset['Antal Studerande'].sum()"
   ]
  },
  {
   "cell_type": "code",
   "execution_count": 10,
   "metadata": {},
   "outputs": [
    {
     "data": {
      "application/vnd.microsoft.datawrangler.viewer.v0+json": {
       "columns": [
        {
         "name": "index",
         "rawType": "int64",
         "type": "integer"
        },
        {
         "name": "Utbildningsanordnare, administrativ enhet",
         "rawType": "object",
         "type": "string"
        },
        {
         "name": "Administrativ enhet, besöksadress",
         "rawType": "object",
         "type": "string"
        },
        {
         "name": "Administrativ enhet, postadress",
         "rawType": "object",
         "type": "string"
        },
        {
         "name": "Administrativ enhet, postnummer",
         "rawType": "int64",
         "type": "integer"
        },
        {
         "name": "Administrativ enhet, postort",
         "rawType": "object",
         "type": "string"
        },
        {
         "name": "Administrativ enhet, e-post",
         "rawType": "object",
         "type": "string"
        },
        {
         "name": "Telefonnummer",
         "rawType": "object",
         "type": "string"
        },
        {
         "name": "Utbildningsnummer",
         "rawType": "object",
         "type": "string"
        },
        {
         "name": "Utbildningsnamn",
         "rawType": "object",
         "type": "string"
        },
        {
         "name": "Studieort",
         "rawType": "object",
         "type": "string"
        },
        {
         "name": "Studieform",
         "rawType": "object",
         "type": "string"
        },
        {
         "name": "Status",
         "rawType": "object",
         "type": "string"
        },
        {
         "name": "Beviljade platser",
         "rawType": "int64",
         "type": "integer"
        },
        {
         "name": "Antal Studerande",
         "rawType": "float64",
         "type": "float"
        }
       ],
       "conversionMethod": "pd.DataFrame",
       "ref": "d75b16d6-b194-4624-8e10-d3e00a4a2f07",
       "rows": [
        [
         "187",
         "Folkuniversitetet - Kursverksamheten vid Lunds Universitet",
         "Skomakaregatan 8",
         "Box 2116",
         "22350",
         "Lund",
         "yh.lund@folkuniversitetet.se",
         "046-197700",
         "YH00943",
         "Läke- och livsmedelstekniker",
         "Lund",
         "Bunden",
         "Beviljat",
         "30",
         null
        ],
        [
         "188",
         "Folkuniversitetet - Kursverksamheten vid Lunds Universitet",
         "Skomakaregatan 8",
         "Box 2116",
         "22350",
         "Lund",
         "yh.lund@folkuniversitetet.se",
         "046-197700",
         "YH01360",
         "Råvarukunskap och förädling av livsmedel",
         "Lund",
         "Distans",
         "Startat",
         "40",
         "4.0"
        ],
        [
         "189",
         "Folkuniversitetet - Kursverksamheten vid Lunds Universitet",
         "Skomakaregatan 8",
         "Box 2116",
         "22350",
         "Lund",
         "yh.lund@folkuniversitetet.se",
         "046-197700",
         "YH01490",
         "Stödpedagog inom funktionshinderområdet",
         "Simrishamn",
         "Distans",
         "Beviljat",
         "30",
         null
        ],
        [
         "190",
         "Folkuniversitetet - Kursverksamheten vid Lunds Universitet",
         "Skomakaregatan 8",
         "Box 2116",
         "22350",
         "Lund",
         "yh.lund@folkuniversitetet.se",
         "046-197700",
         "YH01604",
         "Hållbar livsmedelsintraprenör",
         "Lund",
         "Distans",
         "Beviljat",
         "30",
         null
        ],
        [
         "191",
         "Folkuniversitetet - Kursverksamheten vid Lunds Universitet",
         "Skomakaregatan 8",
         "Box 2116",
         "22350",
         "Lund",
         "yh.lund@folkuniversitetet.se",
         "046-197700",
         "YH01769",
         "Utvecklingsledare gröna näringar",
         "Jönköping, Malmö, Stockholm",
         "Distans",
         "Beviljat",
         "35",
         null
        ],
        [
         "192",
         "Folkuniversitetet - Kursverksamheten vid Lunds Universitet",
         "Skomakaregatan 8",
         "Box 2116",
         "22350",
         "Lund",
         "yh.lund@folkuniversitetet.se",
         "046-197700",
         "YH01779",
         "UAS-pilot inom kategorin SPECIFIK",
         "Ljungbyhed",
         "Distans",
         "Beviljat",
         "20",
         null
        ],
        [
         "193",
         "Folkuniversitetet - Kursverksamheten vid Lunds Universitet",
         "Skomakaregatan 8",
         "Box 2116",
         "22350",
         "Lund",
         "yh.lund@folkuniversitetet.se",
         "046-197700",
         "YH02152",
         "Funktionsnedsättningar och hälsa",
         "Simrishamn",
         "Distans",
         "Startat",
         "80",
         "21.0"
        ],
        [
         "194",
         "Folkuniversitetet - Kursverksamheten vid Lunds Universitet",
         "Skomakaregatan 8",
         "Box 2116",
         "22350",
         "Lund",
         "yh.lund@folkuniversitetet.se",
         "046-197700",
         "YH02209",
         "Kvalitet och miljö i livsmedel",
         "Lund",
         "Distans",
         "Startat",
         "40",
         "7.0"
        ],
        [
         "195",
         "Folkuniversitetet - Kursverksamheten vid Lunds Universitet",
         "Skomakaregatan 8",
         "Box 2116",
         "22350",
         "Lund",
         "yh.lund@folkuniversitetet.se",
         "046-197700",
         "YH02364",
         "Verksamhetsutvecklare blåa livsmedel",
         "Lund",
         "Distans",
         "Beviljat",
         "35",
         null
        ],
        [
         "196",
         "Folkuniversitetet - Kursverksamheten vid Lunds Universitet",
         "Skomakaregatan 8",
         "Box 2116",
         "22350",
         "Lund",
         "yh.lund@folkuniversitetet.se",
         "046-197700",
         "YH02709",
         "Tekniker inom krossning, betong och asfalt",
         "Arvika, Kalmar, Lund",
         "Distans",
         "Beviljat",
         "20",
         null
        ],
        [
         "197",
         "Folkuniversitetet - Kursverksamheten vid Lunds Universitet",
         "Skomakaregatan 8",
         "Box 2116",
         "22350",
         "Lund",
         "yh.lund@folkuniversitetet.se",
         "046-197700",
         "YH02721",
         "Ingenjör smarta elnät",
         "Göteborg, Malmö",
         "Distans",
         "Beviljat",
         "35",
         null
        ],
        [
         "371",
         "Hermods AB Lund",
         "Åkergränden 5",
         "Drottninggatan 4B",
         "21141",
         "Malmö",
         "yh@hermods.se",
         "031-757 9349",
         "YH00103",
         "Företagssäljare/B2B",
         "Lund",
         "Distans",
         "Beviljat",
         "35",
         null
        ],
        [
         "372",
         "Hermods AB Lund",
         "Åkergränden 5",
         "Drottninggatan 4B",
         "21141",
         "Malmö",
         "yh@hermods.se",
         "031-757 9349",
         "YH01524",
         "Automations- och Robotingenjör med Industri 4.0",
         "Lund",
         "Bunden",
         "Beviljat",
         "35",
         null
        ],
        [
         "373",
         "Hermods AB Lund",
         "Åkergränden 5",
         "Drottninggatan 4B",
         "21141",
         "Malmö",
         "yh@hermods.se",
         "031-757 9349",
         "YH01721",
         "CNC- och robottekniker",
         "Lund",
         "Bunden",
         "Beviljat",
         "22",
         null
        ],
        [
         "745",
         "Lunds universitet Trafikflyghögskolan",
         "Drottningvägen 5",
         "Drottningvägen 5",
         "26451",
         "Ljungbyhed",
         "tfhs@tfhs.lu.se",
         "0435-445400",
         "YH01518",
         "Integrerad trafikflygarutbildning",
         "Ljungbyhed",
         "Bunden",
         "Startat",
         "20",
         "20.0"
        ],
        [
         "1241",
         "Umeå kommun - Forslundagymnasiet",
         "Forslunda 1",
         "Centrum för vuxenutbildning Yh",
         "90184",
         "Umeå",
         "yrkeshogskolan@umea.se",
         "90161214",
         "YH00973",
         "Driftledare lantbruk",
         "Umeå",
         "Distans",
         "Beviljat",
         "20",
         null
        ],
        [
         "1242",
         "Umeå kommun - Forslundagymnasiet",
         "Forslunda 1",
         "Centrum för vuxenutbildning Yh",
         "90184",
         "Umeå",
         "yrkeshogskolan@umea.se",
         "90161214",
         "YH01947",
         "Ridlärare",
         "Umeå",
         "Bunden",
         "Beviljat",
         "12",
         null
        ]
       ],
       "shape": {
        "columns": 14,
        "rows": 17
       }
      },
      "text/html": [
       "<div>\n",
       "<style scoped>\n",
       "    .dataframe tbody tr th:only-of-type {\n",
       "        vertical-align: middle;\n",
       "    }\n",
       "\n",
       "    .dataframe tbody tr th {\n",
       "        vertical-align: top;\n",
       "    }\n",
       "\n",
       "    .dataframe thead th {\n",
       "        text-align: right;\n",
       "    }\n",
       "</style>\n",
       "<table border=\"1\" class=\"dataframe\">\n",
       "  <thead>\n",
       "    <tr style=\"text-align: right;\">\n",
       "      <th></th>\n",
       "      <th>Utbildningsanordnare, administrativ enhet</th>\n",
       "      <th>Administrativ enhet, besöksadress</th>\n",
       "      <th>Administrativ enhet, postadress</th>\n",
       "      <th>Administrativ enhet, postnummer</th>\n",
       "      <th>Administrativ enhet, postort</th>\n",
       "      <th>Administrativ enhet, e-post</th>\n",
       "      <th>Telefonnummer</th>\n",
       "      <th>Utbildningsnummer</th>\n",
       "      <th>Utbildningsnamn</th>\n",
       "      <th>Studieort</th>\n",
       "      <th>Studieform</th>\n",
       "      <th>Status</th>\n",
       "      <th>Beviljade platser</th>\n",
       "      <th>Antal Studerande</th>\n",
       "    </tr>\n",
       "  </thead>\n",
       "  <tbody>\n",
       "    <tr>\n",
       "      <th>187</th>\n",
       "      <td>Folkuniversitetet - Kursverksamheten vid Lunds...</td>\n",
       "      <td>Skomakaregatan 8</td>\n",
       "      <td>Box 2116</td>\n",
       "      <td>22350</td>\n",
       "      <td>Lund</td>\n",
       "      <td>yh.lund@folkuniversitetet.se</td>\n",
       "      <td>046-197700</td>\n",
       "      <td>YH00943</td>\n",
       "      <td>Läke- och livsmedelstekniker</td>\n",
       "      <td>Lund</td>\n",
       "      <td>Bunden</td>\n",
       "      <td>Beviljat</td>\n",
       "      <td>30</td>\n",
       "      <td>NaN</td>\n",
       "    </tr>\n",
       "    <tr>\n",
       "      <th>188</th>\n",
       "      <td>Folkuniversitetet - Kursverksamheten vid Lunds...</td>\n",
       "      <td>Skomakaregatan 8</td>\n",
       "      <td>Box 2116</td>\n",
       "      <td>22350</td>\n",
       "      <td>Lund</td>\n",
       "      <td>yh.lund@folkuniversitetet.se</td>\n",
       "      <td>046-197700</td>\n",
       "      <td>YH01360</td>\n",
       "      <td>Råvarukunskap och förädling av livsmedel</td>\n",
       "      <td>Lund</td>\n",
       "      <td>Distans</td>\n",
       "      <td>Startat</td>\n",
       "      <td>40</td>\n",
       "      <td>4.0</td>\n",
       "    </tr>\n",
       "    <tr>\n",
       "      <th>189</th>\n",
       "      <td>Folkuniversitetet - Kursverksamheten vid Lunds...</td>\n",
       "      <td>Skomakaregatan 8</td>\n",
       "      <td>Box 2116</td>\n",
       "      <td>22350</td>\n",
       "      <td>Lund</td>\n",
       "      <td>yh.lund@folkuniversitetet.se</td>\n",
       "      <td>046-197700</td>\n",
       "      <td>YH01490</td>\n",
       "      <td>Stödpedagog inom funktionshinderområdet</td>\n",
       "      <td>Simrishamn</td>\n",
       "      <td>Distans</td>\n",
       "      <td>Beviljat</td>\n",
       "      <td>30</td>\n",
       "      <td>NaN</td>\n",
       "    </tr>\n",
       "    <tr>\n",
       "      <th>190</th>\n",
       "      <td>Folkuniversitetet - Kursverksamheten vid Lunds...</td>\n",
       "      <td>Skomakaregatan 8</td>\n",
       "      <td>Box 2116</td>\n",
       "      <td>22350</td>\n",
       "      <td>Lund</td>\n",
       "      <td>yh.lund@folkuniversitetet.se</td>\n",
       "      <td>046-197700</td>\n",
       "      <td>YH01604</td>\n",
       "      <td>Hållbar livsmedelsintraprenör</td>\n",
       "      <td>Lund</td>\n",
       "      <td>Distans</td>\n",
       "      <td>Beviljat</td>\n",
       "      <td>30</td>\n",
       "      <td>NaN</td>\n",
       "    </tr>\n",
       "    <tr>\n",
       "      <th>191</th>\n",
       "      <td>Folkuniversitetet - Kursverksamheten vid Lunds...</td>\n",
       "      <td>Skomakaregatan 8</td>\n",
       "      <td>Box 2116</td>\n",
       "      <td>22350</td>\n",
       "      <td>Lund</td>\n",
       "      <td>yh.lund@folkuniversitetet.se</td>\n",
       "      <td>046-197700</td>\n",
       "      <td>YH01769</td>\n",
       "      <td>Utvecklingsledare gröna näringar</td>\n",
       "      <td>Jönköping, Malmö, Stockholm</td>\n",
       "      <td>Distans</td>\n",
       "      <td>Beviljat</td>\n",
       "      <td>35</td>\n",
       "      <td>NaN</td>\n",
       "    </tr>\n",
       "    <tr>\n",
       "      <th>192</th>\n",
       "      <td>Folkuniversitetet - Kursverksamheten vid Lunds...</td>\n",
       "      <td>Skomakaregatan 8</td>\n",
       "      <td>Box 2116</td>\n",
       "      <td>22350</td>\n",
       "      <td>Lund</td>\n",
       "      <td>yh.lund@folkuniversitetet.se</td>\n",
       "      <td>046-197700</td>\n",
       "      <td>YH01779</td>\n",
       "      <td>UAS-pilot inom kategorin SPECIFIK</td>\n",
       "      <td>Ljungbyhed</td>\n",
       "      <td>Distans</td>\n",
       "      <td>Beviljat</td>\n",
       "      <td>20</td>\n",
       "      <td>NaN</td>\n",
       "    </tr>\n",
       "    <tr>\n",
       "      <th>193</th>\n",
       "      <td>Folkuniversitetet - Kursverksamheten vid Lunds...</td>\n",
       "      <td>Skomakaregatan 8</td>\n",
       "      <td>Box 2116</td>\n",
       "      <td>22350</td>\n",
       "      <td>Lund</td>\n",
       "      <td>yh.lund@folkuniversitetet.se</td>\n",
       "      <td>046-197700</td>\n",
       "      <td>YH02152</td>\n",
       "      <td>Funktionsnedsättningar och hälsa</td>\n",
       "      <td>Simrishamn</td>\n",
       "      <td>Distans</td>\n",
       "      <td>Startat</td>\n",
       "      <td>80</td>\n",
       "      <td>21.0</td>\n",
       "    </tr>\n",
       "    <tr>\n",
       "      <th>194</th>\n",
       "      <td>Folkuniversitetet - Kursverksamheten vid Lunds...</td>\n",
       "      <td>Skomakaregatan 8</td>\n",
       "      <td>Box 2116</td>\n",
       "      <td>22350</td>\n",
       "      <td>Lund</td>\n",
       "      <td>yh.lund@folkuniversitetet.se</td>\n",
       "      <td>046-197700</td>\n",
       "      <td>YH02209</td>\n",
       "      <td>Kvalitet och miljö i livsmedel</td>\n",
       "      <td>Lund</td>\n",
       "      <td>Distans</td>\n",
       "      <td>Startat</td>\n",
       "      <td>40</td>\n",
       "      <td>7.0</td>\n",
       "    </tr>\n",
       "    <tr>\n",
       "      <th>195</th>\n",
       "      <td>Folkuniversitetet - Kursverksamheten vid Lunds...</td>\n",
       "      <td>Skomakaregatan 8</td>\n",
       "      <td>Box 2116</td>\n",
       "      <td>22350</td>\n",
       "      <td>Lund</td>\n",
       "      <td>yh.lund@folkuniversitetet.se</td>\n",
       "      <td>046-197700</td>\n",
       "      <td>YH02364</td>\n",
       "      <td>Verksamhetsutvecklare blåa livsmedel</td>\n",
       "      <td>Lund</td>\n",
       "      <td>Distans</td>\n",
       "      <td>Beviljat</td>\n",
       "      <td>35</td>\n",
       "      <td>NaN</td>\n",
       "    </tr>\n",
       "    <tr>\n",
       "      <th>196</th>\n",
       "      <td>Folkuniversitetet - Kursverksamheten vid Lunds...</td>\n",
       "      <td>Skomakaregatan 8</td>\n",
       "      <td>Box 2116</td>\n",
       "      <td>22350</td>\n",
       "      <td>Lund</td>\n",
       "      <td>yh.lund@folkuniversitetet.se</td>\n",
       "      <td>046-197700</td>\n",
       "      <td>YH02709</td>\n",
       "      <td>Tekniker inom krossning, betong och asfalt</td>\n",
       "      <td>Arvika, Kalmar, Lund</td>\n",
       "      <td>Distans</td>\n",
       "      <td>Beviljat</td>\n",
       "      <td>20</td>\n",
       "      <td>NaN</td>\n",
       "    </tr>\n",
       "    <tr>\n",
       "      <th>197</th>\n",
       "      <td>Folkuniversitetet - Kursverksamheten vid Lunds...</td>\n",
       "      <td>Skomakaregatan 8</td>\n",
       "      <td>Box 2116</td>\n",
       "      <td>22350</td>\n",
       "      <td>Lund</td>\n",
       "      <td>yh.lund@folkuniversitetet.se</td>\n",
       "      <td>046-197700</td>\n",
       "      <td>YH02721</td>\n",
       "      <td>Ingenjör smarta elnät</td>\n",
       "      <td>Göteborg, Malmö</td>\n",
       "      <td>Distans</td>\n",
       "      <td>Beviljat</td>\n",
       "      <td>35</td>\n",
       "      <td>NaN</td>\n",
       "    </tr>\n",
       "    <tr>\n",
       "      <th>371</th>\n",
       "      <td>Hermods AB Lund</td>\n",
       "      <td>Åkergränden 5</td>\n",
       "      <td>Drottninggatan 4B</td>\n",
       "      <td>21141</td>\n",
       "      <td>Malmö</td>\n",
       "      <td>yh@hermods.se</td>\n",
       "      <td>031-757 9349</td>\n",
       "      <td>YH00103</td>\n",
       "      <td>Företagssäljare/B2B</td>\n",
       "      <td>Lund</td>\n",
       "      <td>Distans</td>\n",
       "      <td>Beviljat</td>\n",
       "      <td>35</td>\n",
       "      <td>NaN</td>\n",
       "    </tr>\n",
       "    <tr>\n",
       "      <th>372</th>\n",
       "      <td>Hermods AB Lund</td>\n",
       "      <td>Åkergränden 5</td>\n",
       "      <td>Drottninggatan 4B</td>\n",
       "      <td>21141</td>\n",
       "      <td>Malmö</td>\n",
       "      <td>yh@hermods.se</td>\n",
       "      <td>031-757 9349</td>\n",
       "      <td>YH01524</td>\n",
       "      <td>Automations- och Robotingenjör med Industri 4.0</td>\n",
       "      <td>Lund</td>\n",
       "      <td>Bunden</td>\n",
       "      <td>Beviljat</td>\n",
       "      <td>35</td>\n",
       "      <td>NaN</td>\n",
       "    </tr>\n",
       "    <tr>\n",
       "      <th>373</th>\n",
       "      <td>Hermods AB Lund</td>\n",
       "      <td>Åkergränden 5</td>\n",
       "      <td>Drottninggatan 4B</td>\n",
       "      <td>21141</td>\n",
       "      <td>Malmö</td>\n",
       "      <td>yh@hermods.se</td>\n",
       "      <td>031-757 9349</td>\n",
       "      <td>YH01721</td>\n",
       "      <td>CNC- och robottekniker</td>\n",
       "      <td>Lund</td>\n",
       "      <td>Bunden</td>\n",
       "      <td>Beviljat</td>\n",
       "      <td>22</td>\n",
       "      <td>NaN</td>\n",
       "    </tr>\n",
       "    <tr>\n",
       "      <th>745</th>\n",
       "      <td>Lunds universitet Trafikflyghögskolan</td>\n",
       "      <td>Drottningvägen 5</td>\n",
       "      <td>Drottningvägen 5</td>\n",
       "      <td>26451</td>\n",
       "      <td>Ljungbyhed</td>\n",
       "      <td>tfhs@tfhs.lu.se</td>\n",
       "      <td>0435-445400</td>\n",
       "      <td>YH01518</td>\n",
       "      <td>Integrerad trafikflygarutbildning</td>\n",
       "      <td>Ljungbyhed</td>\n",
       "      <td>Bunden</td>\n",
       "      <td>Startat</td>\n",
       "      <td>20</td>\n",
       "      <td>20.0</td>\n",
       "    </tr>\n",
       "    <tr>\n",
       "      <th>1241</th>\n",
       "      <td>Umeå kommun - Forslundagymnasiet</td>\n",
       "      <td>Forslunda 1</td>\n",
       "      <td>Centrum för vuxenutbildning Yh</td>\n",
       "      <td>90184</td>\n",
       "      <td>Umeå</td>\n",
       "      <td>yrkeshogskolan@umea.se</td>\n",
       "      <td>90161214</td>\n",
       "      <td>YH00973</td>\n",
       "      <td>Driftledare lantbruk</td>\n",
       "      <td>Umeå</td>\n",
       "      <td>Distans</td>\n",
       "      <td>Beviljat</td>\n",
       "      <td>20</td>\n",
       "      <td>NaN</td>\n",
       "    </tr>\n",
       "    <tr>\n",
       "      <th>1242</th>\n",
       "      <td>Umeå kommun - Forslundagymnasiet</td>\n",
       "      <td>Forslunda 1</td>\n",
       "      <td>Centrum för vuxenutbildning Yh</td>\n",
       "      <td>90184</td>\n",
       "      <td>Umeå</td>\n",
       "      <td>yrkeshogskolan@umea.se</td>\n",
       "      <td>90161214</td>\n",
       "      <td>YH01947</td>\n",
       "      <td>Ridlärare</td>\n",
       "      <td>Umeå</td>\n",
       "      <td>Bunden</td>\n",
       "      <td>Beviljat</td>\n",
       "      <td>12</td>\n",
       "      <td>NaN</td>\n",
       "    </tr>\n",
       "  </tbody>\n",
       "</table>\n",
       "</div>"
      ],
      "text/plain": [
       "              Utbildningsanordnare, administrativ enhet  \\\n",
       "187   Folkuniversitetet - Kursverksamheten vid Lunds...   \n",
       "188   Folkuniversitetet - Kursverksamheten vid Lunds...   \n",
       "189   Folkuniversitetet - Kursverksamheten vid Lunds...   \n",
       "190   Folkuniversitetet - Kursverksamheten vid Lunds...   \n",
       "191   Folkuniversitetet - Kursverksamheten vid Lunds...   \n",
       "192   Folkuniversitetet - Kursverksamheten vid Lunds...   \n",
       "193   Folkuniversitetet - Kursverksamheten vid Lunds...   \n",
       "194   Folkuniversitetet - Kursverksamheten vid Lunds...   \n",
       "195   Folkuniversitetet - Kursverksamheten vid Lunds...   \n",
       "196   Folkuniversitetet - Kursverksamheten vid Lunds...   \n",
       "197   Folkuniversitetet - Kursverksamheten vid Lunds...   \n",
       "371                                     Hermods AB Lund   \n",
       "372                                     Hermods AB Lund   \n",
       "373                                     Hermods AB Lund   \n",
       "745               Lunds universitet Trafikflyghögskolan   \n",
       "1241                   Umeå kommun - Forslundagymnasiet   \n",
       "1242                   Umeå kommun - Forslundagymnasiet   \n",
       "\n",
       "     Administrativ enhet, besöksadress Administrativ enhet, postadress  \\\n",
       "187                   Skomakaregatan 8                        Box 2116   \n",
       "188                   Skomakaregatan 8                        Box 2116   \n",
       "189                   Skomakaregatan 8                        Box 2116   \n",
       "190                   Skomakaregatan 8                        Box 2116   \n",
       "191                   Skomakaregatan 8                        Box 2116   \n",
       "192                   Skomakaregatan 8                        Box 2116   \n",
       "193                   Skomakaregatan 8                        Box 2116   \n",
       "194                   Skomakaregatan 8                        Box 2116   \n",
       "195                   Skomakaregatan 8                        Box 2116   \n",
       "196                   Skomakaregatan 8                        Box 2116   \n",
       "197                   Skomakaregatan 8                        Box 2116   \n",
       "371                      Åkergränden 5               Drottninggatan 4B   \n",
       "372                      Åkergränden 5               Drottninggatan 4B   \n",
       "373                      Åkergränden 5               Drottninggatan 4B   \n",
       "745                   Drottningvägen 5                Drottningvägen 5   \n",
       "1241                       Forslunda 1  Centrum för vuxenutbildning Yh   \n",
       "1242                       Forslunda 1  Centrum för vuxenutbildning Yh   \n",
       "\n",
       "      Administrativ enhet, postnummer Administrativ enhet, postort  \\\n",
       "187                             22350                         Lund   \n",
       "188                             22350                         Lund   \n",
       "189                             22350                         Lund   \n",
       "190                             22350                         Lund   \n",
       "191                             22350                         Lund   \n",
       "192                             22350                         Lund   \n",
       "193                             22350                         Lund   \n",
       "194                             22350                         Lund   \n",
       "195                             22350                         Lund   \n",
       "196                             22350                         Lund   \n",
       "197                             22350                         Lund   \n",
       "371                             21141                        Malmö   \n",
       "372                             21141                        Malmö   \n",
       "373                             21141                        Malmö   \n",
       "745                             26451                   Ljungbyhed   \n",
       "1241                            90184                         Umeå   \n",
       "1242                            90184                         Umeå   \n",
       "\n",
       "       Administrativ enhet, e-post Telefonnummer Utbildningsnummer  \\\n",
       "187   yh.lund@folkuniversitetet.se    046-197700           YH00943   \n",
       "188   yh.lund@folkuniversitetet.se    046-197700           YH01360   \n",
       "189   yh.lund@folkuniversitetet.se    046-197700           YH01490   \n",
       "190   yh.lund@folkuniversitetet.se    046-197700           YH01604   \n",
       "191   yh.lund@folkuniversitetet.se    046-197700           YH01769   \n",
       "192   yh.lund@folkuniversitetet.se    046-197700           YH01779   \n",
       "193   yh.lund@folkuniversitetet.se    046-197700           YH02152   \n",
       "194   yh.lund@folkuniversitetet.se    046-197700           YH02209   \n",
       "195   yh.lund@folkuniversitetet.se    046-197700           YH02364   \n",
       "196   yh.lund@folkuniversitetet.se    046-197700           YH02709   \n",
       "197   yh.lund@folkuniversitetet.se    046-197700           YH02721   \n",
       "371                  yh@hermods.se  031-757 9349           YH00103   \n",
       "372                  yh@hermods.se  031-757 9349           YH01524   \n",
       "373                  yh@hermods.se  031-757 9349           YH01721   \n",
       "745                tfhs@tfhs.lu.se   0435-445400           YH01518   \n",
       "1241        yrkeshogskolan@umea.se      90161214           YH00973   \n",
       "1242        yrkeshogskolan@umea.se      90161214           YH01947   \n",
       "\n",
       "                                      Utbildningsnamn  \\\n",
       "187                      Läke- och livsmedelstekniker   \n",
       "188          Råvarukunskap och förädling av livsmedel   \n",
       "189           Stödpedagog inom funktionshinderområdet   \n",
       "190                     Hållbar livsmedelsintraprenör   \n",
       "191                  Utvecklingsledare gröna näringar   \n",
       "192                 UAS-pilot inom kategorin SPECIFIK   \n",
       "193                  Funktionsnedsättningar och hälsa   \n",
       "194                    Kvalitet och miljö i livsmedel   \n",
       "195              Verksamhetsutvecklare blåa livsmedel   \n",
       "196        Tekniker inom krossning, betong och asfalt   \n",
       "197                             Ingenjör smarta elnät   \n",
       "371                               Företagssäljare/B2B   \n",
       "372   Automations- och Robotingenjör med Industri 4.0   \n",
       "373                            CNC- och robottekniker   \n",
       "745                 Integrerad trafikflygarutbildning   \n",
       "1241                             Driftledare lantbruk   \n",
       "1242                                        Ridlärare   \n",
       "\n",
       "                        Studieort Studieform    Status  Beviljade platser  \\\n",
       "187                          Lund     Bunden  Beviljat                 30   \n",
       "188                          Lund    Distans   Startat                 40   \n",
       "189                    Simrishamn    Distans  Beviljat                 30   \n",
       "190                          Lund    Distans  Beviljat                 30   \n",
       "191   Jönköping, Malmö, Stockholm    Distans  Beviljat                 35   \n",
       "192                    Ljungbyhed    Distans  Beviljat                 20   \n",
       "193                    Simrishamn    Distans   Startat                 80   \n",
       "194                          Lund    Distans   Startat                 40   \n",
       "195                          Lund    Distans  Beviljat                 35   \n",
       "196          Arvika, Kalmar, Lund    Distans  Beviljat                 20   \n",
       "197               Göteborg, Malmö    Distans  Beviljat                 35   \n",
       "371                          Lund    Distans  Beviljat                 35   \n",
       "372                          Lund     Bunden  Beviljat                 35   \n",
       "373                          Lund     Bunden  Beviljat                 22   \n",
       "745                    Ljungbyhed     Bunden   Startat                 20   \n",
       "1241                         Umeå    Distans  Beviljat                 20   \n",
       "1242                         Umeå     Bunden  Beviljat                 12   \n",
       "\n",
       "      Antal Studerande  \n",
       "187                NaN  \n",
       "188                4.0  \n",
       "189                NaN  \n",
       "190                NaN  \n",
       "191                NaN  \n",
       "192                NaN  \n",
       "193               21.0  \n",
       "194                7.0  \n",
       "195                NaN  \n",
       "196                NaN  \n",
       "197                NaN  \n",
       "371                NaN  \n",
       "372                NaN  \n",
       "373                NaN  \n",
       "745               20.0  \n",
       "1241               NaN  \n",
       "1242               NaN  "
      ]
     },
     "execution_count": 10,
     "metadata": {},
     "output_type": "execute_result"
    }
   ],
   "source": [
    "df_great_dataset[df_great_dataset['Utbildningsanordnare, administrativ enhet'].str.contains('lund', case=False)]"
   ]
  },
  {
   "cell_type": "code",
   "execution_count": 4,
   "metadata": {},
   "outputs": [
    {
     "name": "stdout",
     "output_type": "stream",
     "text": [
      "company_name    1217\n",
      "address         1217\n",
      "postal_code     1217\n",
      "city            1217\n",
      "email           1217\n",
      "phone_number    1217\n",
      "course_name     1217\n",
      "dtype: int64\n"
     ]
    },
    {
     "data": {
      "application/vnd.microsoft.datawrangler.viewer.v0+json": {
       "columns": [
        {
         "name": "index",
         "rawType": "int64",
         "type": "integer"
        },
        {
         "name": "company_name",
         "rawType": "object",
         "type": "string"
        },
        {
         "name": "address",
         "rawType": "object",
         "type": "string"
        },
        {
         "name": "postal_code",
         "rawType": "int64",
         "type": "integer"
        },
        {
         "name": "city",
         "rawType": "object",
         "type": "string"
        },
        {
         "name": "email",
         "rawType": "object",
         "type": "string"
        },
        {
         "name": "phone_number",
         "rawType": "object",
         "type": "string"
        },
        {
         "name": "course_name",
         "rawType": "object",
         "type": "string"
        }
       ],
       "conversionMethod": "pd.DataFrame",
       "ref": "91b36299-fc6a-4c3a-8cab-7ccb0d2077dd",
       "rows": [
        [
         "0",
         "AGSTU AB",
         "Oxbacksgatan 2B",
         "72461",
         "Västerås",
         "mia.lindh@agstu.com",
         "070-2864344",
         "FPGA - ingenjör"
        ],
        [
         "1",
         "ALEA Kompetenshöjning AB",
         "Anderstorpsvägen 22",
         "17154",
         "Solna",
         "info@arenayrkeshogskola.se",
         "010-7880039",
         "Energioptimering och navigationsteknik för framtidens sjöfart"
        ],
        [
         "2",
         "ALEA Kompetenshöjning AB",
         "Anderstorpsvägen 22",
         "17154",
         "Solna",
         "info@arenayrkeshogskola.se",
         "010-7880039",
         "Grön budgetering - Klimatdeklarationens ekonomi"
        ]
       ],
       "shape": {
        "columns": 7,
        "rows": 3
       }
      },
      "text/html": [
       "<div>\n",
       "<style scoped>\n",
       "    .dataframe tbody tr th:only-of-type {\n",
       "        vertical-align: middle;\n",
       "    }\n",
       "\n",
       "    .dataframe tbody tr th {\n",
       "        vertical-align: top;\n",
       "    }\n",
       "\n",
       "    .dataframe thead th {\n",
       "        text-align: right;\n",
       "    }\n",
       "</style>\n",
       "<table border=\"1\" class=\"dataframe\">\n",
       "  <thead>\n",
       "    <tr style=\"text-align: right;\">\n",
       "      <th></th>\n",
       "      <th>company_name</th>\n",
       "      <th>address</th>\n",
       "      <th>postal_code</th>\n",
       "      <th>city</th>\n",
       "      <th>email</th>\n",
       "      <th>phone_number</th>\n",
       "      <th>course_name</th>\n",
       "    </tr>\n",
       "  </thead>\n",
       "  <tbody>\n",
       "    <tr>\n",
       "      <th>0</th>\n",
       "      <td>AGSTU AB</td>\n",
       "      <td>Oxbacksgatan 2B</td>\n",
       "      <td>72461</td>\n",
       "      <td>Västerås</td>\n",
       "      <td>mia.lindh@agstu.com</td>\n",
       "      <td>070-2864344</td>\n",
       "      <td>FPGA - ingenjör</td>\n",
       "    </tr>\n",
       "    <tr>\n",
       "      <th>1</th>\n",
       "      <td>ALEA Kompetenshöjning AB</td>\n",
       "      <td>Anderstorpsvägen 22</td>\n",
       "      <td>17154</td>\n",
       "      <td>Solna</td>\n",
       "      <td>info@arenayrkeshogskola.se</td>\n",
       "      <td>010-7880039</td>\n",
       "      <td>Energioptimering och navigationsteknik för fra...</td>\n",
       "    </tr>\n",
       "    <tr>\n",
       "      <th>2</th>\n",
       "      <td>ALEA Kompetenshöjning AB</td>\n",
       "      <td>Anderstorpsvägen 22</td>\n",
       "      <td>17154</td>\n",
       "      <td>Solna</td>\n",
       "      <td>info@arenayrkeshogskola.se</td>\n",
       "      <td>010-7880039</td>\n",
       "      <td>Grön budgetering - Klimatdeklarationens ekonomi</td>\n",
       "    </tr>\n",
       "  </tbody>\n",
       "</table>\n",
       "</div>"
      ],
      "text/plain": [
       "               company_name              address  postal_code      city  \\\n",
       "0                  AGSTU AB      Oxbacksgatan 2B        72461  Västerås   \n",
       "1  ALEA Kompetenshöjning AB  Anderstorpsvägen 22        17154     Solna   \n",
       "2  ALEA Kompetenshöjning AB  Anderstorpsvägen 22        17154     Solna   \n",
       "\n",
       "                        email phone_number  \\\n",
       "0         mia.lindh@agstu.com  070-2864344   \n",
       "1  info@arenayrkeshogskola.se  010-7880039   \n",
       "2  info@arenayrkeshogskola.se  010-7880039   \n",
       "\n",
       "                                         course_name  \n",
       "0                                    FPGA - ingenjör  \n",
       "1  Energioptimering och navigationsteknik för fra...  \n",
       "2    Grön budgetering - Klimatdeklarationens ekonomi  "
      ]
     },
     "metadata": {},
     "output_type": "display_data"
    }
   ],
   "source": [
    "print(df.count())\n",
    "display(df.head(3))"
   ]
  },
  {
   "cell_type": "code",
   "execution_count": 32,
   "metadata": {},
   "outputs": [],
   "source": [
    "df_count = df.groupby('company_name').count()\n",
    "df_count = pd.DataFrame(df['company_name'].value_counts())"
   ]
  },
  {
   "cell_type": "code",
   "execution_count": 33,
   "metadata": {},
   "outputs": [
    {
     "name": "stdout",
     "output_type": "stream",
     "text": [
      "count    253\n",
      "dtype: int64\n"
     ]
    },
    {
     "data": {
      "application/vnd.microsoft.datawrangler.viewer.v0+json": {
       "columns": [
        {
         "name": "company_name",
         "rawType": "object",
         "type": "string"
        },
        {
         "name": "count",
         "rawType": "int64",
         "type": "integer"
        }
       ],
       "conversionMethod": "pd.DataFrame",
       "ref": "57fd5f19-a39e-4fde-85c5-14d1f902185c",
       "rows": [
        [
         "YH Akademin AB",
         "56"
        ],
        [
         "TUC Sweden AB - Yrkeshögskola",
         "49"
        ],
        [
         "Göteborgs Stad, Yrgo",
         "48"
        ],
        [
         "Nackademin AB",
         "42"
        ],
        [
         "Plushögskolan AB - Teknikhögskolan",
         "32"
        ]
       ],
       "shape": {
        "columns": 1,
        "rows": 5
       }
      },
      "text/html": [
       "<div>\n",
       "<style scoped>\n",
       "    .dataframe tbody tr th:only-of-type {\n",
       "        vertical-align: middle;\n",
       "    }\n",
       "\n",
       "    .dataframe tbody tr th {\n",
       "        vertical-align: top;\n",
       "    }\n",
       "\n",
       "    .dataframe thead th {\n",
       "        text-align: right;\n",
       "    }\n",
       "</style>\n",
       "<table border=\"1\" class=\"dataframe\">\n",
       "  <thead>\n",
       "    <tr style=\"text-align: right;\">\n",
       "      <th></th>\n",
       "      <th>count</th>\n",
       "    </tr>\n",
       "    <tr>\n",
       "      <th>company_name</th>\n",
       "      <th></th>\n",
       "    </tr>\n",
       "  </thead>\n",
       "  <tbody>\n",
       "    <tr>\n",
       "      <th>YH Akademin AB</th>\n",
       "      <td>56</td>\n",
       "    </tr>\n",
       "    <tr>\n",
       "      <th>TUC Sweden AB - Yrkeshögskola</th>\n",
       "      <td>49</td>\n",
       "    </tr>\n",
       "    <tr>\n",
       "      <th>Göteborgs Stad, Yrgo</th>\n",
       "      <td>48</td>\n",
       "    </tr>\n",
       "    <tr>\n",
       "      <th>Nackademin AB</th>\n",
       "      <td>42</td>\n",
       "    </tr>\n",
       "    <tr>\n",
       "      <th>Plushögskolan AB - Teknikhögskolan</th>\n",
       "      <td>32</td>\n",
       "    </tr>\n",
       "  </tbody>\n",
       "</table>\n",
       "</div>"
      ],
      "text/plain": [
       "                                    count\n",
       "company_name                             \n",
       "YH Akademin AB                         56\n",
       "TUC Sweden AB - Yrkeshögskola          49\n",
       "Göteborgs Stad, Yrgo                   48\n",
       "Nackademin AB                          42\n",
       "Plushögskolan AB - Teknikhögskolan     32"
      ]
     },
     "metadata": {},
     "output_type": "display_data"
    }
   ],
   "source": [
    "print(df_count.count())\n",
    "display(df_count.head())"
   ]
  },
  {
   "cell_type": "code",
   "execution_count": 7,
   "metadata": {},
   "outputs": [
    {
     "data": {
      "application/vnd.microsoft.datawrangler.viewer.v0+json": {
       "columns": [
        {
         "name": "index",
         "rawType": "int64",
         "type": "integer"
        },
        {
         "name": "company_name",
         "rawType": "object",
         "type": "string"
        },
        {
         "name": "address",
         "rawType": "object",
         "type": "string"
        },
        {
         "name": "postal_code",
         "rawType": "int64",
         "type": "integer"
        },
        {
         "name": "city",
         "rawType": "object",
         "type": "string"
        },
        {
         "name": "email",
         "rawType": "object",
         "type": "string"
        },
        {
         "name": "phone_number",
         "rawType": "object",
         "type": "string"
        },
        {
         "name": "course_name",
         "rawType": "object",
         "type": "string"
        }
       ],
       "conversionMethod": "pd.DataFrame",
       "ref": "2331b84c-1d6e-4f1d-801f-f2eb930a9adc",
       "rows": [
        [
         "232",
         "Företagsuniversitetet AB",
         "Vasagatan 28",
         "11120",
         "Stockholm",
         "yh@foretagsuniversitetet.se",
         "08-6006200",
         "Cybersäkerhet"
        ],
        [
         "233",
         "Företagsuniversitetet AB",
         "Vasagatan 28",
         "11120",
         "Stockholm",
         "yh@foretagsuniversitetet.se",
         "08-6006200",
         "Fullstack-utvecklare"
        ],
        [
         "234",
         "Företagsuniversitetet AB",
         "Vasagatan 28",
         "11120",
         "Stockholm",
         "yh@foretagsuniversitetet.se",
         "08-6006200",
         "Säkerhets- och beredskapssamordnare"
        ]
       ],
       "shape": {
        "columns": 7,
        "rows": 3
       }
      },
      "text/html": [
       "<div>\n",
       "<style scoped>\n",
       "    .dataframe tbody tr th:only-of-type {\n",
       "        vertical-align: middle;\n",
       "    }\n",
       "\n",
       "    .dataframe tbody tr th {\n",
       "        vertical-align: top;\n",
       "    }\n",
       "\n",
       "    .dataframe thead th {\n",
       "        text-align: right;\n",
       "    }\n",
       "</style>\n",
       "<table border=\"1\" class=\"dataframe\">\n",
       "  <thead>\n",
       "    <tr style=\"text-align: right;\">\n",
       "      <th></th>\n",
       "      <th>company_name</th>\n",
       "      <th>address</th>\n",
       "      <th>postal_code</th>\n",
       "      <th>city</th>\n",
       "      <th>email</th>\n",
       "      <th>phone_number</th>\n",
       "      <th>course_name</th>\n",
       "    </tr>\n",
       "  </thead>\n",
       "  <tbody>\n",
       "    <tr>\n",
       "      <th>232</th>\n",
       "      <td>Företagsuniversitetet AB</td>\n",
       "      <td>Vasagatan 28</td>\n",
       "      <td>11120</td>\n",
       "      <td>Stockholm</td>\n",
       "      <td>yh@foretagsuniversitetet.se</td>\n",
       "      <td>08-6006200</td>\n",
       "      <td>Cybersäkerhet</td>\n",
       "    </tr>\n",
       "    <tr>\n",
       "      <th>233</th>\n",
       "      <td>Företagsuniversitetet AB</td>\n",
       "      <td>Vasagatan 28</td>\n",
       "      <td>11120</td>\n",
       "      <td>Stockholm</td>\n",
       "      <td>yh@foretagsuniversitetet.se</td>\n",
       "      <td>08-6006200</td>\n",
       "      <td>Fullstack-utvecklare</td>\n",
       "    </tr>\n",
       "    <tr>\n",
       "      <th>234</th>\n",
       "      <td>Företagsuniversitetet AB</td>\n",
       "      <td>Vasagatan 28</td>\n",
       "      <td>11120</td>\n",
       "      <td>Stockholm</td>\n",
       "      <td>yh@foretagsuniversitetet.se</td>\n",
       "      <td>08-6006200</td>\n",
       "      <td>Säkerhets- och beredskapssamordnare</td>\n",
       "    </tr>\n",
       "  </tbody>\n",
       "</table>\n",
       "</div>"
      ],
      "text/plain": [
       "                 company_name       address  postal_code       city  \\\n",
       "232  Företagsuniversitetet AB  Vasagatan 28        11120  Stockholm   \n",
       "233  Företagsuniversitetet AB  Vasagatan 28        11120  Stockholm   \n",
       "234  Företagsuniversitetet AB  Vasagatan 28        11120  Stockholm   \n",
       "\n",
       "                           email phone_number  \\\n",
       "232  yh@foretagsuniversitetet.se   08-6006200   \n",
       "233  yh@foretagsuniversitetet.se   08-6006200   \n",
       "234  yh@foretagsuniversitetet.se   08-6006200   \n",
       "\n",
       "                             course_name  \n",
       "232                        Cybersäkerhet  \n",
       "233                 Fullstack-utvecklare  \n",
       "234  Säkerhets- och beredskapssamordnare  "
      ]
     },
     "execution_count": 7,
     "metadata": {},
     "output_type": "execute_result"
    }
   ],
   "source": [
    "df[df['company_name'].str.contains('företagsuniversitetet', case=False)]"
   ]
  },
  {
   "cell_type": "code",
   "execution_count": 8,
   "metadata": {},
   "outputs": [
    {
     "data": {
      "application/vnd.microsoft.datawrangler.viewer.v0+json": {
       "columns": [
        {
         "name": "index",
         "rawType": "int64",
         "type": "integer"
        },
        {
         "name": "company_name",
         "rawType": "object",
         "type": "string"
        },
        {
         "name": "address",
         "rawType": "object",
         "type": "string"
        },
        {
         "name": "postal_code",
         "rawType": "int64",
         "type": "integer"
        },
        {
         "name": "city",
         "rawType": "object",
         "type": "string"
        },
        {
         "name": "email",
         "rawType": "object",
         "type": "string"
        },
        {
         "name": "phone_number",
         "rawType": "object",
         "type": "unknown"
        },
        {
         "name": "course_name",
         "rawType": "object",
         "type": "string"
        }
       ],
       "conversionMethod": "pd.DataFrame",
       "ref": "0495525e-8e25-4616-8ce6-fa5d3ce232d0",
       "rows": [
        [
         "130",
         "EC Utbildning AB Helsingborg",
         "Södergatan 78",
         "25227",
         "Helsingborg",
         "info@ecutbildning.se",
         "040-6416300",
         "Data Scientist"
        ],
        [
         "131",
         "EC Utbildning AB Helsingborg",
         "Södergatan 78",
         "25227",
         "Helsingborg",
         "info@ecutbildning.se",
         "040-6416300",
         "Webbutvecklare inom .NET"
        ],
        [
         "327",
         "Hermods AB Helsingborg",
         "Södergatan 78",
         "25227",
         "Helsingborg",
         "yh@hermods.se",
         "08-410 251 00",
         "Internationell affärslogistiker inriktning hållbarhet och digitalisering"
        ],
        [
         "328",
         "Hermods AB Helsingborg",
         "Södergatan 78",
         "25227",
         "Helsingborg",
         "yh@hermods.se",
         "08-410 251 00",
         "VVS-ingenjör"
        ],
        [
         "1095",
         "Utbildarna i Helsingborg AB",
         "Motorgatan 2",
         "25227",
         "Helsingborg",
         "info@utbildarna.com",
         "42326800",
         "Trafiklärare"
        ],
        [
         "1096",
         "Utbildarna i Helsingborg AB",
         "Motorgatan 2",
         "25227",
         "Helsingborg",
         "info@utbildarna.com",
         "42326800",
         "Trafiklärarutbildning"
        ]
       ],
       "shape": {
        "columns": 7,
        "rows": 6
       }
      },
      "text/html": [
       "<div>\n",
       "<style scoped>\n",
       "    .dataframe tbody tr th:only-of-type {\n",
       "        vertical-align: middle;\n",
       "    }\n",
       "\n",
       "    .dataframe tbody tr th {\n",
       "        vertical-align: top;\n",
       "    }\n",
       "\n",
       "    .dataframe thead th {\n",
       "        text-align: right;\n",
       "    }\n",
       "</style>\n",
       "<table border=\"1\" class=\"dataframe\">\n",
       "  <thead>\n",
       "    <tr style=\"text-align: right;\">\n",
       "      <th></th>\n",
       "      <th>company_name</th>\n",
       "      <th>address</th>\n",
       "      <th>postal_code</th>\n",
       "      <th>city</th>\n",
       "      <th>email</th>\n",
       "      <th>phone_number</th>\n",
       "      <th>course_name</th>\n",
       "    </tr>\n",
       "  </thead>\n",
       "  <tbody>\n",
       "    <tr>\n",
       "      <th>130</th>\n",
       "      <td>EC Utbildning AB Helsingborg</td>\n",
       "      <td>Södergatan 78</td>\n",
       "      <td>25227</td>\n",
       "      <td>Helsingborg</td>\n",
       "      <td>info@ecutbildning.se</td>\n",
       "      <td>040-6416300</td>\n",
       "      <td>Data Scientist</td>\n",
       "    </tr>\n",
       "    <tr>\n",
       "      <th>131</th>\n",
       "      <td>EC Utbildning AB Helsingborg</td>\n",
       "      <td>Södergatan 78</td>\n",
       "      <td>25227</td>\n",
       "      <td>Helsingborg</td>\n",
       "      <td>info@ecutbildning.se</td>\n",
       "      <td>040-6416300</td>\n",
       "      <td>Webbutvecklare inom .NET</td>\n",
       "    </tr>\n",
       "    <tr>\n",
       "      <th>327</th>\n",
       "      <td>Hermods AB Helsingborg</td>\n",
       "      <td>Södergatan 78</td>\n",
       "      <td>25227</td>\n",
       "      <td>Helsingborg</td>\n",
       "      <td>yh@hermods.se</td>\n",
       "      <td>08-410 251 00</td>\n",
       "      <td>Internationell affärslogistiker inriktning hål...</td>\n",
       "    </tr>\n",
       "    <tr>\n",
       "      <th>328</th>\n",
       "      <td>Hermods AB Helsingborg</td>\n",
       "      <td>Södergatan 78</td>\n",
       "      <td>25227</td>\n",
       "      <td>Helsingborg</td>\n",
       "      <td>yh@hermods.se</td>\n",
       "      <td>08-410 251 00</td>\n",
       "      <td>VVS-ingenjör</td>\n",
       "    </tr>\n",
       "    <tr>\n",
       "      <th>1095</th>\n",
       "      <td>Utbildarna i Helsingborg AB</td>\n",
       "      <td>Motorgatan 2</td>\n",
       "      <td>25227</td>\n",
       "      <td>Helsingborg</td>\n",
       "      <td>info@utbildarna.com</td>\n",
       "      <td>42326800</td>\n",
       "      <td>Trafiklärare</td>\n",
       "    </tr>\n",
       "    <tr>\n",
       "      <th>1096</th>\n",
       "      <td>Utbildarna i Helsingborg AB</td>\n",
       "      <td>Motorgatan 2</td>\n",
       "      <td>25227</td>\n",
       "      <td>Helsingborg</td>\n",
       "      <td>info@utbildarna.com</td>\n",
       "      <td>42326800</td>\n",
       "      <td>Trafiklärarutbildning</td>\n",
       "    </tr>\n",
       "  </tbody>\n",
       "</table>\n",
       "</div>"
      ],
      "text/plain": [
       "                      company_name        address  postal_code         city  \\\n",
       "130   EC Utbildning AB Helsingborg  Södergatan 78        25227  Helsingborg   \n",
       "131   EC Utbildning AB Helsingborg  Södergatan 78        25227  Helsingborg   \n",
       "327         Hermods AB Helsingborg  Södergatan 78        25227  Helsingborg   \n",
       "328         Hermods AB Helsingborg  Södergatan 78        25227  Helsingborg   \n",
       "1095   Utbildarna i Helsingborg AB   Motorgatan 2        25227  Helsingborg   \n",
       "1096   Utbildarna i Helsingborg AB   Motorgatan 2        25227  Helsingborg   \n",
       "\n",
       "                     email   phone_number  \\\n",
       "130   info@ecutbildning.se    040-6416300   \n",
       "131   info@ecutbildning.se    040-6416300   \n",
       "327          yh@hermods.se  08-410 251 00   \n",
       "328          yh@hermods.se  08-410 251 00   \n",
       "1095   info@utbildarna.com       42326800   \n",
       "1096   info@utbildarna.com       42326800   \n",
       "\n",
       "                                            course_name  \n",
       "130                                      Data Scientist  \n",
       "131                            Webbutvecklare inom .NET  \n",
       "327   Internationell affärslogistiker inriktning hål...  \n",
       "328                                        VVS-ingenjör  \n",
       "1095                                       Trafiklärare  \n",
       "1096                              Trafiklärarutbildning  "
      ]
     },
     "execution_count": 8,
     "metadata": {},
     "output_type": "execute_result"
    }
   ],
   "source": [
    "df[df['city'].str.contains('helsingborg', case=False)]"
   ]
  },
  {
   "cell_type": "code",
   "execution_count": 9,
   "metadata": {},
   "outputs": [],
   "source": [
    "df_count_merged = pd.merge(df_count, df, how='left', on=['company_name']) # each row has a \"count\" column with that schools number of courses"
   ]
  },
  {
   "cell_type": "code",
   "execution_count": 10,
   "metadata": {},
   "outputs": [
    {
     "data": {
      "text/plain": [
       "253"
      ]
     },
     "execution_count": 10,
     "metadata": {},
     "output_type": "execute_result"
    }
   ],
   "source": [
    "len(pd.unique(df_count_merged['company_name']))"
   ]
  },
  {
   "cell_type": "code",
   "execution_count": 11,
   "metadata": {},
   "outputs": [
    {
     "name": "stdout",
     "output_type": "stream",
     "text": [
      "0    223\n",
      "dtype: int64\n"
     ]
    },
    {
     "data": {
      "application/vnd.microsoft.datawrangler.viewer.v0+json": {
       "columns": [
        {
         "name": "index",
         "rawType": "int64",
         "type": "integer"
        },
        {
         "name": "0",
         "rawType": "object",
         "type": "string"
        }
       ],
       "conversionMethod": "pd.DataFrame",
       "ref": "5281304b-a7ab-47e0-9937-4af98951bd26",
       "rows": [
        [
         "0",
         "yh@ya.se"
        ],
        [
         "1",
         "info@tucsweden.se"
        ],
        [
         "2",
         "katarina.hjernestam@educ.goteborg.se"
        ],
        [
         "3",
         "info@nackademin.se"
        ],
        [
         "4",
         "info@teknikhogskolan.se"
        ],
        [
         "5",
         "yh@lernia.se"
        ],
        [
         "6",
         "maria.dagermo@ihm.se"
        ],
        [
         "7",
         "linda.sahin@elevera.org"
        ],
        [
         "8",
         "emma.ackerskold@kyh.se"
        ],
        [
         "9",
         "yh@sti.se"
        ],
        [
         "10",
         "info.schartau@edu.stockholm.se"
        ],
        [
         "11",
         "campus@nykoping.se"
        ],
        [
         "12",
         "mats.kihlman@ju.se"
        ],
        [
         "13",
         "yh@hermods.se"
        ],
        [
         "14",
         "info@jensenyrkeshogskola.se"
        ],
        [
         "15",
         "yrkeshogskola@kui.se"
        ],
        [
         "16",
         "info@iths.se"
        ],
        [
         "17",
         "info.uppsala@folkuniversitetet.se"
        ],
        [
         "18",
         "Info@xenter.se"
        ],
        [
         "19",
         "eric.badeur@gritacademy.se"
        ],
        [
         "20",
         "yh@insu.se"
        ],
        [
         "21",
         "yh@nynashamn.se"
        ],
        [
         "22",
         "yh.vast@folkuniversitetet.se"
        ],
        [
         "23",
         "yh.lund@folkuniversitetet.se"
        ],
        [
         "24",
         "azadeh.lind@fei.se"
        ],
        [
         "25",
         "info@osyh.se"
        ],
        [
         "26",
         "info@chasacademy.se"
        ],
        [
         "27",
         "info.yh@lexicon.se"
        ],
        [
         "28",
         "vuxenutbildning@sundsvall.se"
        ],
        [
         "29",
         "emelie.gruseus@newton.se"
        ],
        [
         "30",
         "info@affarshogskolan.se"
        ],
        [
         "31",
         "yrkeshogskolan@karlstad.se"
        ],
        [
         "32",
         "camilla.verngren@nbi-handelsakademin.se"
        ],
        [
         "33",
         "yh@boras.se"
        ],
        [
         "34",
         "info@yhsky.se"
        ],
        [
         "35",
         "info@arenayrkeshogskola.se"
        ],
        [
         "36",
         "info@edugrade.se"
        ],
        [
         "37",
         "tomas.rasmussen@campus.varberg.se"
        ],
        [
         "38",
         "vyh@vasteras.se"
        ],
        [
         "39",
         "christer.ivarssonosterberg@irisgruppen.se"
        ],
        [
         "40",
         "kansli.yhs@hassleholm.se"
        ],
        [
         "41",
         "christina.rehn@cmeducations.se"
        ],
        [
         "42",
         "agnetha.fredriksson@kramfors.se"
        ],
        [
         "43",
         "infovuxkfv@kunskapsforbundet.se"
        ],
        [
         "44",
         "nathalie.werjefelt@mariestad.se"
        ],
        [
         "45",
         "info@berghs.se"
        ],
        [
         "46",
         "tibrohantverksakademi@folkuniversitetet.se"
        ],
        [
         "47",
         "martin.wesseloh@sih.se"
        ],
        [
         "48",
         "malmo@thegameassembly.se"
        ],
        [
         "49",
         "myhinfo@hyperisland.com"
        ]
       ],
       "shape": {
        "columns": 1,
        "rows": 223
       }
      },
      "text/html": [
       "<div>\n",
       "<style scoped>\n",
       "    .dataframe tbody tr th:only-of-type {\n",
       "        vertical-align: middle;\n",
       "    }\n",
       "\n",
       "    .dataframe tbody tr th {\n",
       "        vertical-align: top;\n",
       "    }\n",
       "\n",
       "    .dataframe thead th {\n",
       "        text-align: right;\n",
       "    }\n",
       "</style>\n",
       "<table border=\"1\" class=\"dataframe\">\n",
       "  <thead>\n",
       "    <tr style=\"text-align: right;\">\n",
       "      <th></th>\n",
       "      <th>0</th>\n",
       "    </tr>\n",
       "  </thead>\n",
       "  <tbody>\n",
       "    <tr>\n",
       "      <th>0</th>\n",
       "      <td>yh@ya.se</td>\n",
       "    </tr>\n",
       "    <tr>\n",
       "      <th>1</th>\n",
       "      <td>info@tucsweden.se</td>\n",
       "    </tr>\n",
       "    <tr>\n",
       "      <th>2</th>\n",
       "      <td>katarina.hjernestam@educ.goteborg.se</td>\n",
       "    </tr>\n",
       "    <tr>\n",
       "      <th>3</th>\n",
       "      <td>info@nackademin.se</td>\n",
       "    </tr>\n",
       "    <tr>\n",
       "      <th>4</th>\n",
       "      <td>info@teknikhogskolan.se</td>\n",
       "    </tr>\n",
       "    <tr>\n",
       "      <th>...</th>\n",
       "      <td>...</td>\n",
       "    </tr>\n",
       "    <tr>\n",
       "      <th>218</th>\n",
       "      <td>stefan.gustavsson@xedrix.se</td>\n",
       "    </tr>\n",
       "    <tr>\n",
       "      <th>219</th>\n",
       "      <td>annina.hohenthal@vaster-bo.se</td>\n",
       "    </tr>\n",
       "    <tr>\n",
       "      <th>220</th>\n",
       "      <td>daniel.gafforelli@rvn.se</td>\n",
       "    </tr>\n",
       "    <tr>\n",
       "      <th>221</th>\n",
       "      <td>haganasskolan@almhult.se</td>\n",
       "    </tr>\n",
       "    <tr>\n",
       "      <th>222</th>\n",
       "      <td>eva-lena.klofsten@regionostergotland.se</td>\n",
       "    </tr>\n",
       "  </tbody>\n",
       "</table>\n",
       "<p>223 rows × 1 columns</p>\n",
       "</div>"
      ],
      "text/plain": [
       "                                           0\n",
       "0                                   yh@ya.se\n",
       "1                          info@tucsweden.se\n",
       "2       katarina.hjernestam@educ.goteborg.se\n",
       "3                         info@nackademin.se\n",
       "4                    info@teknikhogskolan.se\n",
       "..                                       ...\n",
       "218              stefan.gustavsson@xedrix.se\n",
       "219            annina.hohenthal@vaster-bo.se\n",
       "220                 daniel.gafforelli@rvn.se\n",
       "221                 haganasskolan@almhult.se\n",
       "222  eva-lena.klofsten@regionostergotland.se\n",
       "\n",
       "[223 rows x 1 columns]"
      ]
     },
     "metadata": {},
     "output_type": "display_data"
    }
   ],
   "source": [
    "maillista = pd.DataFrame(pd.unique(df_count_merged.email))\n",
    "print(maillista.count())\n",
    "\n",
    "display(maillista)"
   ]
  },
  {
   "cell_type": "code",
   "execution_count": 12,
   "metadata": {},
   "outputs": [],
   "source": [
    "df_count_merged.to_csv('ringlista.csv')"
   ]
  },
  {
   "cell_type": "code",
   "execution_count": 13,
   "metadata": {},
   "outputs": [
    {
     "ename": "KeyError",
     "evalue": "'course_name'",
     "output_type": "error",
     "traceback": [
      "\u001b[31m---------------------------------------------------------------------------\u001b[39m",
      "\u001b[31mKeyError\u001b[39m                                  Traceback (most recent call last)",
      "\u001b[36mFile \u001b[39m\u001b[32m~/utbildning/data24hel/egna_projekt/enkät/yrkeshögskolor/.venv/lib/python3.12/site-packages/pandas/core/indexes/base.py:3805\u001b[39m, in \u001b[36mIndex.get_loc\u001b[39m\u001b[34m(self, key)\u001b[39m\n\u001b[32m   3804\u001b[39m \u001b[38;5;28;01mtry\u001b[39;00m:\n\u001b[32m-> \u001b[39m\u001b[32m3805\u001b[39m     \u001b[38;5;28;01mreturn\u001b[39;00m \u001b[38;5;28;43mself\u001b[39;49m\u001b[43m.\u001b[49m\u001b[43m_engine\u001b[49m\u001b[43m.\u001b[49m\u001b[43mget_loc\u001b[49m\u001b[43m(\u001b[49m\u001b[43mcasted_key\u001b[49m\u001b[43m)\u001b[49m\n\u001b[32m   3806\u001b[39m \u001b[38;5;28;01mexcept\u001b[39;00m \u001b[38;5;167;01mKeyError\u001b[39;00m \u001b[38;5;28;01mas\u001b[39;00m err:\n",
      "\u001b[36mFile \u001b[39m\u001b[32mindex.pyx:167\u001b[39m, in \u001b[36mpandas._libs.index.IndexEngine.get_loc\u001b[39m\u001b[34m()\u001b[39m\n",
      "\u001b[36mFile \u001b[39m\u001b[32mindex.pyx:175\u001b[39m, in \u001b[36mpandas._libs.index.IndexEngine.get_loc\u001b[39m\u001b[34m()\u001b[39m\n",
      "\u001b[36mFile \u001b[39m\u001b[32mpandas/_libs/index_class_helper.pxi:70\u001b[39m, in \u001b[36mpandas._libs.index.Int64Engine._check_type\u001b[39m\u001b[34m()\u001b[39m\n",
      "\u001b[31mKeyError\u001b[39m: 'course_name'",
      "\nThe above exception was the direct cause of the following exception:\n",
      "\u001b[31mKeyError\u001b[39m                                  Traceback (most recent call last)",
      "\u001b[36mCell\u001b[39m\u001b[36m \u001b[39m\u001b[32mIn[13]\u001b[39m\u001b[32m, line 4\u001b[39m\n\u001b[32m      1\u001b[39m \u001b[38;5;66;03m# TODO: add all courses as a list\u001b[39;00m\n\u001b[32m      3\u001b[39m df_count_merged[\u001b[33m\"\u001b[39m\u001b[33mcourses\u001b[39m\u001b[33m\"\u001b[39m] = \\\n\u001b[32m----> \u001b[39m\u001b[32m4\u001b[39m     \u001b[43mdf_count_merged\u001b[49m\u001b[43m.\u001b[49m\u001b[43mapply\u001b[49m\u001b[43m(\u001b[49m\n\u001b[32m      5\u001b[39m \u001b[43m        \u001b[49m\u001b[38;5;28;43;01mlambda\u001b[39;49;00m\u001b[43m \u001b[49m\u001b[43mrow\u001b[49m\u001b[43m:\u001b[49m\u001b[43m \u001b[49m\u001b[43mdf_count_merged\u001b[49m\u001b[43m[\u001b[49m\u001b[43mdf_count_merged\u001b[49m\u001b[43m[\u001b[49m\u001b[33;43m'\u001b[39;49m\u001b[33;43mcompany_name\u001b[39;49m\u001b[33;43m'\u001b[39;49m\u001b[43m]\u001b[49m\u001b[43m \u001b[49m\u001b[43m==\u001b[49m\u001b[43m \u001b[49m\u001b[43mrow\u001b[49m\u001b[43m.\u001b[49m\u001b[43mcompany_name\u001b[49m\u001b[43m]\u001b[49m\u001b[43m.\u001b[49m\u001b[43mloc\u001b[49m\u001b[43m[\u001b[49m\u001b[33;43m'\u001b[39;49m\u001b[33;43mcourse_name\u001b[39;49m\u001b[33;43m'\u001b[39;49m\u001b[43m]\u001b[49m\u001b[43m,\u001b[49m\n\u001b[32m      6\u001b[39m \u001b[43m        \u001b[49m\u001b[43maxis\u001b[49m\u001b[43m=\u001b[49m\u001b[32;43m1\u001b[39;49m\n\u001b[32m      7\u001b[39m \u001b[43m    \u001b[49m\u001b[43m)\u001b[49m \u001b[38;5;66;03m# does not work!\u001b[39;00m\n",
      "\u001b[36mFile \u001b[39m\u001b[32m~/utbildning/data24hel/egna_projekt/enkät/yrkeshögskolor/.venv/lib/python3.12/site-packages/pandas/core/frame.py:10374\u001b[39m, in \u001b[36mDataFrame.apply\u001b[39m\u001b[34m(self, func, axis, raw, result_type, args, by_row, engine, engine_kwargs, **kwargs)\u001b[39m\n\u001b[32m  10360\u001b[39m \u001b[38;5;28;01mfrom\u001b[39;00m\u001b[38;5;250m \u001b[39m\u001b[34;01mpandas\u001b[39;00m\u001b[34;01m.\u001b[39;00m\u001b[34;01mcore\u001b[39;00m\u001b[34;01m.\u001b[39;00m\u001b[34;01mapply\u001b[39;00m\u001b[38;5;250m \u001b[39m\u001b[38;5;28;01mimport\u001b[39;00m frame_apply\n\u001b[32m  10362\u001b[39m op = frame_apply(\n\u001b[32m  10363\u001b[39m     \u001b[38;5;28mself\u001b[39m,\n\u001b[32m  10364\u001b[39m     func=func,\n\u001b[32m   (...)\u001b[39m\u001b[32m  10372\u001b[39m     kwargs=kwargs,\n\u001b[32m  10373\u001b[39m )\n\u001b[32m> \u001b[39m\u001b[32m10374\u001b[39m \u001b[38;5;28;01mreturn\u001b[39;00m \u001b[43mop\u001b[49m\u001b[43m.\u001b[49m\u001b[43mapply\u001b[49m\u001b[43m(\u001b[49m\u001b[43m)\u001b[49m.__finalize__(\u001b[38;5;28mself\u001b[39m, method=\u001b[33m\"\u001b[39m\u001b[33mapply\u001b[39m\u001b[33m\"\u001b[39m)\n",
      "\u001b[36mFile \u001b[39m\u001b[32m~/utbildning/data24hel/egna_projekt/enkät/yrkeshögskolor/.venv/lib/python3.12/site-packages/pandas/core/apply.py:916\u001b[39m, in \u001b[36mFrameApply.apply\u001b[39m\u001b[34m(self)\u001b[39m\n\u001b[32m    913\u001b[39m \u001b[38;5;28;01melif\u001b[39;00m \u001b[38;5;28mself\u001b[39m.raw:\n\u001b[32m    914\u001b[39m     \u001b[38;5;28;01mreturn\u001b[39;00m \u001b[38;5;28mself\u001b[39m.apply_raw(engine=\u001b[38;5;28mself\u001b[39m.engine, engine_kwargs=\u001b[38;5;28mself\u001b[39m.engine_kwargs)\n\u001b[32m--> \u001b[39m\u001b[32m916\u001b[39m \u001b[38;5;28;01mreturn\u001b[39;00m \u001b[38;5;28;43mself\u001b[39;49m\u001b[43m.\u001b[49m\u001b[43mapply_standard\u001b[49m\u001b[43m(\u001b[49m\u001b[43m)\u001b[49m\n",
      "\u001b[36mFile \u001b[39m\u001b[32m~/utbildning/data24hel/egna_projekt/enkät/yrkeshögskolor/.venv/lib/python3.12/site-packages/pandas/core/apply.py:1063\u001b[39m, in \u001b[36mFrameApply.apply_standard\u001b[39m\u001b[34m(self)\u001b[39m\n\u001b[32m   1061\u001b[39m \u001b[38;5;28;01mdef\u001b[39;00m\u001b[38;5;250m \u001b[39m\u001b[34mapply_standard\u001b[39m(\u001b[38;5;28mself\u001b[39m):\n\u001b[32m   1062\u001b[39m     \u001b[38;5;28;01mif\u001b[39;00m \u001b[38;5;28mself\u001b[39m.engine == \u001b[33m\"\u001b[39m\u001b[33mpython\u001b[39m\u001b[33m\"\u001b[39m:\n\u001b[32m-> \u001b[39m\u001b[32m1063\u001b[39m         results, res_index = \u001b[38;5;28;43mself\u001b[39;49m\u001b[43m.\u001b[49m\u001b[43mapply_series_generator\u001b[49m\u001b[43m(\u001b[49m\u001b[43m)\u001b[49m\n\u001b[32m   1064\u001b[39m     \u001b[38;5;28;01melse\u001b[39;00m:\n\u001b[32m   1065\u001b[39m         results, res_index = \u001b[38;5;28mself\u001b[39m.apply_series_numba()\n",
      "\u001b[36mFile \u001b[39m\u001b[32m~/utbildning/data24hel/egna_projekt/enkät/yrkeshögskolor/.venv/lib/python3.12/site-packages/pandas/core/apply.py:1081\u001b[39m, in \u001b[36mFrameApply.apply_series_generator\u001b[39m\u001b[34m(self)\u001b[39m\n\u001b[32m   1078\u001b[39m \u001b[38;5;28;01mwith\u001b[39;00m option_context(\u001b[33m\"\u001b[39m\u001b[33mmode.chained_assignment\u001b[39m\u001b[33m\"\u001b[39m, \u001b[38;5;28;01mNone\u001b[39;00m):\n\u001b[32m   1079\u001b[39m     \u001b[38;5;28;01mfor\u001b[39;00m i, v \u001b[38;5;129;01min\u001b[39;00m \u001b[38;5;28menumerate\u001b[39m(series_gen):\n\u001b[32m   1080\u001b[39m         \u001b[38;5;66;03m# ignore SettingWithCopy here in case the user mutates\u001b[39;00m\n\u001b[32m-> \u001b[39m\u001b[32m1081\u001b[39m         results[i] = \u001b[38;5;28;43mself\u001b[39;49m\u001b[43m.\u001b[49m\u001b[43mfunc\u001b[49m\u001b[43m(\u001b[49m\u001b[43mv\u001b[49m\u001b[43m,\u001b[49m\u001b[43m \u001b[49m\u001b[43m*\u001b[49m\u001b[38;5;28;43mself\u001b[39;49m\u001b[43m.\u001b[49m\u001b[43margs\u001b[49m\u001b[43m,\u001b[49m\u001b[43m \u001b[49m\u001b[43m*\u001b[49m\u001b[43m*\u001b[49m\u001b[38;5;28;43mself\u001b[39;49m\u001b[43m.\u001b[49m\u001b[43mkwargs\u001b[49m\u001b[43m)\u001b[49m\n\u001b[32m   1082\u001b[39m         \u001b[38;5;28;01mif\u001b[39;00m \u001b[38;5;28misinstance\u001b[39m(results[i], ABCSeries):\n\u001b[32m   1083\u001b[39m             \u001b[38;5;66;03m# If we have a view on v, we need to make a copy because\u001b[39;00m\n\u001b[32m   1084\u001b[39m             \u001b[38;5;66;03m#  series_generator will swap out the underlying data\u001b[39;00m\n\u001b[32m   1085\u001b[39m             results[i] = results[i].copy(deep=\u001b[38;5;28;01mFalse\u001b[39;00m)\n",
      "\u001b[36mCell\u001b[39m\u001b[36m \u001b[39m\u001b[32mIn[13]\u001b[39m\u001b[32m, line 5\u001b[39m, in \u001b[36m<lambda>\u001b[39m\u001b[34m(row)\u001b[39m\n\u001b[32m      1\u001b[39m \u001b[38;5;66;03m# TODO: add all courses as a list\u001b[39;00m\n\u001b[32m      3\u001b[39m df_count_merged[\u001b[33m\"\u001b[39m\u001b[33mcourses\u001b[39m\u001b[33m\"\u001b[39m] = \\\n\u001b[32m      4\u001b[39m     df_count_merged.apply(\n\u001b[32m----> \u001b[39m\u001b[32m5\u001b[39m         \u001b[38;5;28;01mlambda\u001b[39;00m row: \u001b[43mdf_count_merged\u001b[49m\u001b[43m[\u001b[49m\u001b[43mdf_count_merged\u001b[49m\u001b[43m[\u001b[49m\u001b[33;43m'\u001b[39;49m\u001b[33;43mcompany_name\u001b[39;49m\u001b[33;43m'\u001b[39;49m\u001b[43m]\u001b[49m\u001b[43m \u001b[49m\u001b[43m==\u001b[49m\u001b[43m \u001b[49m\u001b[43mrow\u001b[49m\u001b[43m.\u001b[49m\u001b[43mcompany_name\u001b[49m\u001b[43m]\u001b[49m\u001b[43m.\u001b[49m\u001b[43mloc\u001b[49m\u001b[43m[\u001b[49m\u001b[33;43m'\u001b[39;49m\u001b[33;43mcourse_name\u001b[39;49m\u001b[33;43m'\u001b[39;49m\u001b[43m]\u001b[49m,\n\u001b[32m      6\u001b[39m         axis=\u001b[32m1\u001b[39m\n\u001b[32m      7\u001b[39m     ) \u001b[38;5;66;03m# does not work!\u001b[39;00m\n",
      "\u001b[36mFile \u001b[39m\u001b[32m~/utbildning/data24hel/egna_projekt/enkät/yrkeshögskolor/.venv/lib/python3.12/site-packages/pandas/core/indexing.py:1191\u001b[39m, in \u001b[36m_LocationIndexer.__getitem__\u001b[39m\u001b[34m(self, key)\u001b[39m\n\u001b[32m   1189\u001b[39m maybe_callable = com.apply_if_callable(key, \u001b[38;5;28mself\u001b[39m.obj)\n\u001b[32m   1190\u001b[39m maybe_callable = \u001b[38;5;28mself\u001b[39m._check_deprecated_callable_usage(key, maybe_callable)\n\u001b[32m-> \u001b[39m\u001b[32m1191\u001b[39m \u001b[38;5;28;01mreturn\u001b[39;00m \u001b[38;5;28;43mself\u001b[39;49m\u001b[43m.\u001b[49m\u001b[43m_getitem_axis\u001b[49m\u001b[43m(\u001b[49m\u001b[43mmaybe_callable\u001b[49m\u001b[43m,\u001b[49m\u001b[43m \u001b[49m\u001b[43maxis\u001b[49m\u001b[43m=\u001b[49m\u001b[43maxis\u001b[49m\u001b[43m)\u001b[49m\n",
      "\u001b[36mFile \u001b[39m\u001b[32m~/utbildning/data24hel/egna_projekt/enkät/yrkeshögskolor/.venv/lib/python3.12/site-packages/pandas/core/indexing.py:1431\u001b[39m, in \u001b[36m_LocIndexer._getitem_axis\u001b[39m\u001b[34m(self, key, axis)\u001b[39m\n\u001b[32m   1429\u001b[39m \u001b[38;5;66;03m# fall thru to straight lookup\u001b[39;00m\n\u001b[32m   1430\u001b[39m \u001b[38;5;28mself\u001b[39m._validate_key(key, axis)\n\u001b[32m-> \u001b[39m\u001b[32m1431\u001b[39m \u001b[38;5;28;01mreturn\u001b[39;00m \u001b[38;5;28;43mself\u001b[39;49m\u001b[43m.\u001b[49m\u001b[43m_get_label\u001b[49m\u001b[43m(\u001b[49m\u001b[43mkey\u001b[49m\u001b[43m,\u001b[49m\u001b[43m \u001b[49m\u001b[43maxis\u001b[49m\u001b[43m=\u001b[49m\u001b[43maxis\u001b[49m\u001b[43m)\u001b[49m\n",
      "\u001b[36mFile \u001b[39m\u001b[32m~/utbildning/data24hel/egna_projekt/enkät/yrkeshögskolor/.venv/lib/python3.12/site-packages/pandas/core/indexing.py:1381\u001b[39m, in \u001b[36m_LocIndexer._get_label\u001b[39m\u001b[34m(self, label, axis)\u001b[39m\n\u001b[32m   1379\u001b[39m \u001b[38;5;28;01mdef\u001b[39;00m\u001b[38;5;250m \u001b[39m\u001b[34m_get_label\u001b[39m(\u001b[38;5;28mself\u001b[39m, label, axis: AxisInt):\n\u001b[32m   1380\u001b[39m     \u001b[38;5;66;03m# GH#5567 this will fail if the label is not present in the axis.\u001b[39;00m\n\u001b[32m-> \u001b[39m\u001b[32m1381\u001b[39m     \u001b[38;5;28;01mreturn\u001b[39;00m \u001b[38;5;28;43mself\u001b[39;49m\u001b[43m.\u001b[49m\u001b[43mobj\u001b[49m\u001b[43m.\u001b[49m\u001b[43mxs\u001b[49m\u001b[43m(\u001b[49m\u001b[43mlabel\u001b[49m\u001b[43m,\u001b[49m\u001b[43m \u001b[49m\u001b[43maxis\u001b[49m\u001b[43m=\u001b[49m\u001b[43maxis\u001b[49m\u001b[43m)\u001b[49m\n",
      "\u001b[36mFile \u001b[39m\u001b[32m~/utbildning/data24hel/egna_projekt/enkät/yrkeshögskolor/.venv/lib/python3.12/site-packages/pandas/core/generic.py:4301\u001b[39m, in \u001b[36mNDFrame.xs\u001b[39m\u001b[34m(self, key, axis, level, drop_level)\u001b[39m\n\u001b[32m   4299\u001b[39m             new_index = index[loc]\n\u001b[32m   4300\u001b[39m \u001b[38;5;28;01melse\u001b[39;00m:\n\u001b[32m-> \u001b[39m\u001b[32m4301\u001b[39m     loc = \u001b[43mindex\u001b[49m\u001b[43m.\u001b[49m\u001b[43mget_loc\u001b[49m\u001b[43m(\u001b[49m\u001b[43mkey\u001b[49m\u001b[43m)\u001b[49m\n\u001b[32m   4303\u001b[39m     \u001b[38;5;28;01mif\u001b[39;00m \u001b[38;5;28misinstance\u001b[39m(loc, np.ndarray):\n\u001b[32m   4304\u001b[39m         \u001b[38;5;28;01mif\u001b[39;00m loc.dtype == np.bool_:\n",
      "\u001b[36mFile \u001b[39m\u001b[32m~/utbildning/data24hel/egna_projekt/enkät/yrkeshögskolor/.venv/lib/python3.12/site-packages/pandas/core/indexes/base.py:3812\u001b[39m, in \u001b[36mIndex.get_loc\u001b[39m\u001b[34m(self, key)\u001b[39m\n\u001b[32m   3807\u001b[39m     \u001b[38;5;28;01mif\u001b[39;00m \u001b[38;5;28misinstance\u001b[39m(casted_key, \u001b[38;5;28mslice\u001b[39m) \u001b[38;5;129;01mor\u001b[39;00m (\n\u001b[32m   3808\u001b[39m         \u001b[38;5;28misinstance\u001b[39m(casted_key, abc.Iterable)\n\u001b[32m   3809\u001b[39m         \u001b[38;5;129;01mand\u001b[39;00m \u001b[38;5;28many\u001b[39m(\u001b[38;5;28misinstance\u001b[39m(x, \u001b[38;5;28mslice\u001b[39m) \u001b[38;5;28;01mfor\u001b[39;00m x \u001b[38;5;129;01min\u001b[39;00m casted_key)\n\u001b[32m   3810\u001b[39m     ):\n\u001b[32m   3811\u001b[39m         \u001b[38;5;28;01mraise\u001b[39;00m InvalidIndexError(key)\n\u001b[32m-> \u001b[39m\u001b[32m3812\u001b[39m     \u001b[38;5;28;01mraise\u001b[39;00m \u001b[38;5;167;01mKeyError\u001b[39;00m(key) \u001b[38;5;28;01mfrom\u001b[39;00m\u001b[38;5;250m \u001b[39m\u001b[34;01merr\u001b[39;00m\n\u001b[32m   3813\u001b[39m \u001b[38;5;28;01mexcept\u001b[39;00m \u001b[38;5;167;01mTypeError\u001b[39;00m:\n\u001b[32m   3814\u001b[39m     \u001b[38;5;66;03m# If we have a listlike key, _check_indexing_error will raise\u001b[39;00m\n\u001b[32m   3815\u001b[39m     \u001b[38;5;66;03m#  InvalidIndexError. Otherwise we fall through and re-raise\u001b[39;00m\n\u001b[32m   3816\u001b[39m     \u001b[38;5;66;03m#  the TypeError.\u001b[39;00m\n\u001b[32m   3817\u001b[39m     \u001b[38;5;28mself\u001b[39m._check_indexing_error(key)\n",
      "\u001b[31mKeyError\u001b[39m: 'course_name'"
     ]
    }
   ],
   "source": [
    "# TODO: add all courses as a list\n",
    "\n",
    "df_count_merged[\"courses\"] = \\\n",
    "    df_count_merged.apply(\n",
    "        lambda row: df_count_merged[df_count_merged['company_name'] == row.company_name].loc['course_name'],\n",
    "        axis=1\n",
    "    ) # does not work!\n"
   ]
  },
  {
   "cell_type": "code",
   "execution_count": null,
   "metadata": {},
   "outputs": [],
   "source": [
    "\n",
    "df_count_merged['courses']"
   ]
  },
  {
   "cell_type": "code",
   "execution_count": null,
   "metadata": {},
   "outputs": [],
   "source": [
    "# This section is for inspirational use only\n",
    "import json\n",
    "\n",
    "# Add supplier detail on each document (row)\n",
    "df_products['SupplierDescription'] = \\\n",
    "    df_products.apply(lambda row: json.loads(\n",
    "        # df_suppliers.query(f\"SupplierID == {row.SupplierID}\") # alternative method for searching\n",
    "    df_suppliers[df_suppliers['SupplierID'] == row.SupplierID]\n",
    "        .to_json(orient='records')\n",
    "    ), axis=1) # bygger fortfarande en lista...\n",
    "\n",
    "# display(df_products.to_json(orient='records'))\n",
    "display(df_products)\n",
    "print(type(df_products))\n",
    "\n",
    "# Add all courses for the school in one row\n",
    "df_products['SupplierDescription'] = \\\n",
    "    df_products.apply(lambda row: json.loads(\n",
    "        # df_suppliers.query(f\"SupplierID == {row.SupplierID}\") # alternative method for searching\n",
    "        df_suppliers[df_suppliers['SupplierID'] == row.SupplierID].to_json(orient='records')\n",
    "    ), axis=1) # bygger fortfarande en lista..."
   ]
  }
 ],
 "metadata": {
  "kernelspec": {
   "display_name": ".venv",
   "language": "python",
   "name": "python3"
  },
  "language_info": {
   "codemirror_mode": {
    "name": "ipython",
    "version": 3
   },
   "file_extension": ".py",
   "mimetype": "text/x-python",
   "name": "python",
   "nbconvert_exporter": "python",
   "pygments_lexer": "ipython3",
   "version": "3.12.3"
  }
 },
 "nbformat": 4,
 "nbformat_minor": 2
}
